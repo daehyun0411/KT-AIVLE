{
 "cells": [
  {
   "cell_type": "markdown",
   "metadata": {},
   "source": [
    "# Chapter 2.\n",
    "\n",
    "## Unit 1. 자료구조와 배열"
   ]
  },
  {
   "cell_type": "code",
   "execution_count": 1,
   "metadata": {},
   "outputs": [],
   "source": [
    "a = [1,2,3]\n",
    "maximum = a[0]\n",
    "if a[1] > maximum: maximum = a[1]\n",
    "if a[2] > maximum: maximum = a[2]    "
   ]
  },
  {
   "cell_type": "code",
   "execution_count": 2,
   "metadata": {},
   "outputs": [],
   "source": [
    "a = [1,2,3,4]\n",
    "maximum = a[0]\n",
    "if a[1] > maximum: maximum = a[1]\n",
    "if a[2] > maximum: maximum = a[2]\n",
    "if a[3] > maximum: maximum = a[3]"
   ]
  },
  {
   "cell_type": "code",
   "execution_count": 3,
   "metadata": {},
   "outputs": [],
   "source": [
    "# 최대값 찾기 \n",
    "def max_of(a):\n",
    "    maximum = a[0]\n",
    "    for i in range(1, len(a)):\n",
    "        if a[i] > maximum:\n",
    "            maximum = a[i]\n",
    "    return maximum"
   ]
  },
  {
   "cell_type": "code",
   "execution_count": 4,
   "metadata": {},
   "outputs": [],
   "source": [
    "# 알파벳, 숫자 순\n",
    "t = (4, 7, 5.6, 2, 3.14, 1)\n",
    "s = 'string'\n",
    "a = ['DTS', 'AAC', 'FLAC']"
   ]
  },
  {
   "cell_type": "code",
   "execution_count": 5,
   "metadata": {},
   "outputs": [
    {
     "name": "stdout",
     "output_type": "stream",
     "text": [
      "7\n",
      "t\n",
      "FLAC\n"
     ]
    }
   ],
   "source": [
    "print(f'{max_of(t)}')\n",
    "print(f'{max_of(s)}')\n",
    "print(f'{max_of(a)}')"
   ]
  },
  {
   "cell_type": "code",
   "execution_count": 6,
   "metadata": {},
   "outputs": [
    {
     "data": {
      "text/plain": [
       "tuple"
      ]
     },
     "execution_count": 6,
     "metadata": {},
     "output_type": "execute_result"
    }
   ],
   "source": [
    "t1 = 1, 2, 3\n",
    "type(t1)"
   ]
  },
  {
   "cell_type": "code",
   "execution_count": 7,
   "metadata": {},
   "outputs": [
    {
     "data": {
      "text/plain": [
       "tuple"
      ]
     },
     "execution_count": 7,
     "metadata": {},
     "output_type": "execute_result"
    }
   ],
   "source": [
    "t2 = (1, 2, 3)\n",
    "type(t2)"
   ]
  },
  {
   "cell_type": "code",
   "execution_count": 8,
   "metadata": {},
   "outputs": [],
   "source": [
    "# tuple 변경, 수정X\n",
    "#t[0] = 5 "
   ]
  },
  {
   "cell_type": "code",
   "execution_count": 9,
   "metadata": {},
   "outputs": [],
   "source": [
    "a[0] ='DOLBY'"
   ]
  },
  {
   "cell_type": "code",
   "execution_count": 10,
   "metadata": {},
   "outputs": [
    {
     "data": {
      "text/plain": [
       "['DOLBY', 'AAC', 'FLAC']"
      ]
     },
     "execution_count": 10,
     "metadata": {},
     "output_type": "execute_result"
    }
   ],
   "source": [
    "a"
   ]
  },
  {
   "cell_type": "markdown",
   "metadata": {},
   "source": [
    "### 미니 실습 1"
   ]
  },
  {
   "cell_type": "markdown",
   "metadata": {},
   "source": [
    "- Q) 리스트 원소의 최솟값 구하기 함수 min_of( )를 작성하라"
   ]
  },
  {
   "cell_type": "markdown",
   "metadata": {},
   "source": [
    "- 미니 실습 1 답안"
   ]
  },
  {
   "cell_type": "code",
   "execution_count": 11,
   "metadata": {},
   "outputs": [],
   "source": [
    "# 최소값 구하기\n",
    "def min_of(a):\n",
    "    minimum = a[0]\n",
    "    for i in range(1, len(a)):\n",
    "        if a[i] < minimum:\n",
    "            minimum = a[i]\n",
    "    return minimum"
   ]
  },
  {
   "cell_type": "code",
   "execution_count": 12,
   "metadata": {},
   "outputs": [],
   "source": [
    "t = (4, 7, 5.6, 2, 3.14, 1)\n",
    "s = 'string'\n",
    "a = ['DTS', 'AAC', 'FLAC']"
   ]
  },
  {
   "cell_type": "code",
   "execution_count": 13,
   "metadata": {},
   "outputs": [
    {
     "name": "stdout",
     "output_type": "stream",
     "text": [
      "1\n",
      "g\n",
      "AAC\n"
     ]
    }
   ],
   "source": [
    "print(f'{min_of(t)}')\n",
    "print(f'{min_of(s)}')\n",
    "print(f'{min_of(a)}')"
   ]
  },
  {
   "cell_type": "markdown",
   "metadata": {},
   "source": [
    "### 사용자가 입력한 리스트에서 최댓값 출력하기"
   ]
  },
  {
   "cell_type": "code",
   "execution_count": 14,
   "metadata": {},
   "outputs": [],
   "source": [
    "def max_of(a):\n",
    "    maximum = a[0]\n",
    "    for i in range(1, len(a)):\n",
    "        if a[i] > maximum:\n",
    "            maximum = a[i]\n",
    "    return maximum"
   ]
  },
  {
   "cell_type": "code",
   "execution_count": 15,
   "metadata": {},
   "outputs": [
    {
     "name": "stdout",
     "output_type": "stream",
     "text": [
      "리스트의 최댓값을 구합니다.\n",
      "원소 수를 입력하세요.: 3\n",
      "x[0]값을 입력하세요.: 1\n",
      "x[1]값을 입력하세요.: 2\n",
      "x[2]값을 입력하세요.: 3\n",
      "최댓값은 3입니다.\n"
     ]
    }
   ],
   "source": [
    "print('리스트의 최댓값을 구합니다.')\n",
    "num = int(input('원소 수를 입력하세요.: '))\n",
    "x = [None] * num # 원소 수가 num인 리스트를 생성\n",
    "\n",
    "for i in range(num):\n",
    "    x[i] = int(input(f'x[{i}]값을 입력하세요.: '))\n",
    "    \n",
    "print(f'최댓값은 {max_of(x)}입니다.')"
   ]
  },
  {
   "cell_type": "markdown",
   "metadata": {},
   "source": [
    "### 사용자가 입력한 리스트에서 최댓값 출력하기 (리스트 크기 선언하지 않음)"
   ]
  },
  {
   "cell_type": "code",
   "execution_count": 16,
   "metadata": {},
   "outputs": [
    {
     "name": "stdout",
     "output_type": "stream",
     "text": [
      "리스트의 최댓값을 구합니다.\n",
      "주의: \"End\"를 입력하면 원소 입력을 종료합니다.\n",
      "x[0]값을 입력하세요.: 1\n",
      "x[1]값을 입력하세요.: 2\n",
      "x[2]값을 입력하세요.: 3\n",
      "x[3]값을 입력하세요.: End\n",
      "최댓값은 3입니다.\n"
     ]
    }
   ],
   "source": [
    "print('리스트의 최댓값을 구합니다.')\n",
    "print('주의: \"End\"를 입력하면 원소 입력을 종료합니다.')\n",
    "i = 0\n",
    "x = []\n",
    "\n",
    "while True:\n",
    "    s = input(f'x[{i}]값을 입력하세요.: ')\n",
    "    if s == 'End':\n",
    "        break\n",
    "    x.append(int(s))\n",
    "    i += 1\n",
    "    \n",
    "print(f'최댓값은 {max_of(x)}입니다.')"
   ]
  },
  {
   "cell_type": "markdown",
   "metadata": {},
   "source": [
    "### 리스트의 모든 원소를 스캔하기"
   ]
  },
  {
   "cell_type": "code",
   "execution_count": 17,
   "metadata": {},
   "outputs": [
    {
     "name": "stdout",
     "output_type": "stream",
     "text": [
      "x[0] = John\n",
      "x[1] = George\n",
      "x[2] = Paul\n",
      "x[3] = Ringo\n"
     ]
    }
   ],
   "source": [
    "#원소 수 파악\n",
    "\n",
    "x = ['John', 'George', 'Paul', 'Ringo']\n",
    "\n",
    "for i in range(len(x)):\n",
    "    print(f'x[{i}] = {x[i]}')"
   ]
  },
  {
   "cell_type": "code",
   "execution_count": 18,
   "metadata": {},
   "outputs": [
    {
     "name": "stdout",
     "output_type": "stream",
     "text": [
      "x[0] = John\n",
      "x[1] = George\n",
      "x[2] = Paul\n",
      "x[3] = Ringo\n"
     ]
    }
   ],
   "source": [
    "# enumerate 함수로 스캔\n",
    "\n",
    "x = ['John', 'George', 'Paul', 'Ringo']\n",
    "\n",
    "for i, name in enumerate(x):\n",
    "    print(f'x[{i}] = {name}')"
   ]
  },
  {
   "cell_type": "code",
   "execution_count": 19,
   "metadata": {},
   "outputs": [
    {
     "name": "stdout",
     "output_type": "stream",
     "text": [
      "John\n",
      "George\n",
      "Paul\n",
      "Ringo\n"
     ]
    }
   ],
   "source": [
    "# 인덱스 값을 사용하지 않음\n",
    "\n",
    "x = ['John', 'George', 'Paul', 'Ringo']\n",
    "\n",
    "for i in x:\n",
    "    print(i)"
   ]
  },
  {
   "cell_type": "markdown",
   "metadata": {},
   "source": [
    "### 원소를 역순으로 정렬하기"
   ]
  },
  {
   "cell_type": "code",
   "execution_count": 21,
   "metadata": {},
   "outputs": [],
   "source": [
    "# pseudo code\n",
    "\n",
    "#for i in range(n // 2):\n",
    "        #a[i]와 a[n - i - 1]의 값을 교환"
   ]
  },
  {
   "cell_type": "code",
   "execution_count": 30,
   "metadata": {},
   "outputs": [],
   "source": [
    "def reverse_list(a):\n",
    "    n = len(a)\n",
    "    for i in range(n // 2):\n",
    "        a[i], a[n - i - 1] = a[n - i - 1], a[i]"
   ]
  },
  {
   "cell_type": "code",
   "execution_count": 28,
   "metadata": {},
   "outputs": [
    {
     "name": "stdout",
     "output_type": "stream",
     "text": [
      "[7, 6, 9, 3, 1, 5, 2]\n"
     ]
    }
   ],
   "source": [
    "a = [2, 5, 1, 3, 9, 6, 7]\n",
    "\n",
    "reverse_list(a)\n",
    "\n",
    "print(a)"
   ]
  },
  {
   "cell_type": "markdown",
   "metadata": {},
   "source": [
    "### 미니 실습 2\n",
    "- Q) 리스트를 사용자로부터 입력받아서 역순으로 정렬하여 리스트의 원소를 출력하여라."
   ]
  },
  {
   "cell_type": "markdown",
   "metadata": {},
   "source": [
    "- 미니 실습 2 답안"
   ]
  },
  {
   "cell_type": "code",
   "execution_count": 44,
   "metadata": {},
   "outputs": [
    {
     "name": "stdout",
     "output_type": "stream",
     "text": [
      "1 2 3 4\n"
     ]
    }
   ],
   "source": [
    "num = list(map(int, input().split()))\n",
    "\n",
    "reverse_list(num)"
   ]
  },
  {
   "cell_type": "code",
   "execution_count": 45,
   "metadata": {},
   "outputs": [
    {
     "data": {
      "text/plain": [
       "[4, 3, 2, 1]"
      ]
     },
     "execution_count": 45,
     "metadata": {},
     "output_type": "execute_result"
    }
   ],
   "source": [
    "num"
   ]
  },
  {
   "cell_type": "code",
   "execution_count": 46,
   "metadata": {},
   "outputs": [],
   "source": [
    "def reverse_list(a):\n",
    "    n = len(a)\n",
    "    for i in range(n // 2):\n",
    "        a[i], a[n - i - 1] = a[n - i - 1], a[i]"
   ]
  },
  {
   "cell_type": "code",
   "execution_count": 47,
   "metadata": {},
   "outputs": [
    {
     "name": "stdout",
     "output_type": "stream",
     "text": [
      "리스트를 역순으로 출력합니다.\n",
      "원소 수를 입력하세요.: 1\n",
      "x[0]값을 입력하세요.: 2\n",
      "리스트를 역순으로 출력합니다.\n",
      "x[0] = 2\n"
     ]
    }
   ],
   "source": [
    "print('리스트를 역순으로 출력합니다.')\n",
    "num = int(input('원소 수를 입력하세요.: '))\n",
    "x = [None] * num # 원소 수가 num인 리스트를 생성\n",
    "\n",
    "for i in range(num):\n",
    "    x[i] = int(input(f'x[{i}]값을 입력하세요.: '))\n",
    "\n",
    "reverse_list(x)\n",
    "\n",
    "print('리스트를 역순으로 출력합니다.')\n",
    "for i in range(num):\n",
    "    print(f'x[{i}] = {x[i]}')"
   ]
  },
  {
   "cell_type": "markdown",
   "metadata": {},
   "source": [
    "## Unit 2. 검색 알고리즘"
   ]
  },
  {
   "cell_type": "markdown",
   "metadata": {},
   "source": [
    "### 선형 검색"
   ]
  },
  {
   "cell_type": "markdown",
   "metadata": {},
   "source": [
    "### While 문 선형검색"
   ]
  },
  {
   "cell_type": "code",
   "execution_count": 49,
   "metadata": {},
   "outputs": [],
   "source": [
    "# while 문으로 작성한 선형 검색 알고리즘\n",
    "# 두 가지르 체크\n",
    "\n",
    "def seq_search(a, key):\n",
    "    i = 0\n",
    "    \n",
    "    while True:\n",
    "        if i == len(a):\n",
    "            return -1\n",
    "        if a[i] == key:\n",
    "            return i\n",
    "        i += 1"
   ]
  },
  {
   "cell_type": "code",
   "execution_count": 50,
   "metadata": {},
   "outputs": [
    {
     "name": "stdout",
     "output_type": "stream",
     "text": [
      "검색값은 a[3]에 있습니다.\n"
     ]
    }
   ],
   "source": [
    "a = [2, 5, 1, 3, 9, 6, 7]\n",
    "\n",
    "index = seq_search(a, 3)\n",
    "\n",
    "if index == -1:\n",
    "    print('검색값을 갖는 원소가 존재하지 않습니다.')\n",
    "else:\n",
    "    print(f'검색값은 a[{index}]에 있습니다.')"
   ]
  },
  {
   "cell_type": "markdown",
   "metadata": {},
   "source": [
    "### for 문 선형검색"
   ]
  },
  {
   "cell_type": "code",
   "execution_count": 51,
   "metadata": {},
   "outputs": [],
   "source": [
    "# for 문으로 작성한 선형 검색 알고리즘\n",
    "\n",
    "def seq_search_for(a, key):\n",
    "    \n",
    "    for i in range(len(a)):\n",
    "        if a[i] == key:\n",
    "            return i\n",
    "    return -1"
   ]
  },
  {
   "cell_type": "code",
   "execution_count": 52,
   "metadata": {},
   "outputs": [
    {
     "name": "stdout",
     "output_type": "stream",
     "text": [
      "검색값을 갖는 원소가 존재하지 않습니다.\n"
     ]
    }
   ],
   "source": [
    "a = [2, 5, 1, 3, 9, 6, 7]\n",
    "\n",
    "index = seq_search_for(a, 4)\n",
    "\n",
    "if index == -1:\n",
    "    print('검색값을 갖는 원소가 존재하지 않습니다.')\n",
    "else:\n",
    "    print(f'검색값은 a[{index}]에 있습니다.')"
   ]
  },
  {
   "cell_type": "markdown",
   "metadata": {},
   "source": [
    "### 보초법 (While 문)"
   ]
  },
  {
   "cell_type": "code",
   "execution_count": 53,
   "metadata": {},
   "outputs": [],
   "source": [
    "def seq_search_sentinel(b, key):\n",
    "    a = b.copy()\n",
    "    a.append(key) # 보초/찾으려는 값을 끝에 보초로 붙임 \n",
    "    \n",
    "    i=0\n",
    "    while True:\n",
    "        if a[i] == key:\n",
    "            break\n",
    "        i += 1\n",
    "     \n",
    "    if i == len(b):\n",
    "        return -1\n",
    "    else:\n",
    "        return i"
   ]
  },
  {
   "cell_type": "code",
   "execution_count": 54,
   "metadata": {},
   "outputs": [
    {
     "name": "stdout",
     "output_type": "stream",
     "text": [
      "검색값은 a[6]에 있습니다.\n"
     ]
    }
   ],
   "source": [
    "a = [2, 5, 1, 3, 9, 6, 7]\n",
    "\n",
    "index = seq_search_sentinel(a, 7)\n",
    "\n",
    "if index == -1:\n",
    "    print('검색값을 갖는 원소가 존재하지 않습니다.')\n",
    "else:\n",
    "    print(f'검색값은 a[{index}]에 있습니다.')"
   ]
  },
  {
   "cell_type": "markdown",
   "metadata": {},
   "source": [
    "### 미니 실습 3\n",
    "\n",
    "- Q) 아래 리스트에서 검색값을 찾으려고 한다. 선형 검색 While 문을 사용하는 경우와 보초법을 사용하는 경우에 각각 if 조건문이 몇 번 실행되지는 수를 세어 출력하라. "
   ]
  },
  {
   "cell_type": "markdown",
   "metadata": {},
   "source": [
    "- a = [2, 5, 1, 3, 9, 6, 7]\n",
    "\n",
    "- 검색값: 7"
   ]
  },
  {
   "cell_type": "markdown",
   "metadata": {},
   "source": [
    "- 미니 실습 3) 답안 "
   ]
  },
  {
   "cell_type": "code",
   "execution_count": 57,
   "metadata": {},
   "outputs": [],
   "source": [
    "def seq_search_sentinel_me(b, key):\n",
    "    a = b.copy()\n",
    "    a.append(key)\n",
    "    \n",
    "    i=0\n",
    "    cnt = 0\n",
    "    while True:\n",
    "        cnt += 1\n",
    "        if a[i] == key:\n",
    "            break\n",
    "        i += 1\n",
    "    \n",
    "    if i == len(b):\n",
    "        idx, count = (-1, cnt)\n",
    "    else:\n",
    "        idx, count = (i, cnt)\n",
    "    \n",
    "    if idx == -1:\n",
    "        print('검색값을 갖는 원소가 존재하지 않습니다.')\n",
    "    else:\n",
    "        print(\"선형검색 보초법에서 검색값은 a[%d]이고  %d만큼 실행되었습니다.\" %(idx, count))"
   ]
  },
  {
   "cell_type": "code",
   "execution_count": 58,
   "metadata": {},
   "outputs": [
    {
     "name": "stdout",
     "output_type": "stream",
     "text": [
      "선형검색 보초법에서 검색값은 a[6]이고  7만큼 실행되었습니다.\n"
     ]
    }
   ],
   "source": [
    "a = [2, 5, 1, 3, 9, 6, 7]\n",
    "seq_search_sentinel_me(a, 7)"
   ]
  },
  {
   "cell_type": "code",
   "execution_count": 59,
   "metadata": {},
   "outputs": [],
   "source": [
    "def seq_search(a, key):\n",
    "    i = 0\n",
    "    counter = 0\n",
    "    while True:\n",
    "        counter += 1\n",
    "        if i == len(a):\n",
    "            return (-1, counter)\n",
    "        counter += 1\n",
    "        if a[i] == key:\n",
    "            return (i, counter)\n",
    "        i += 1"
   ]
  },
  {
   "cell_type": "code",
   "execution_count": 61,
   "metadata": {},
   "outputs": [],
   "source": [
    "def seq_search_sentinel(b, key):\n",
    "    a = b.copy()\n",
    "    a.append(key)\n",
    "    \n",
    "    i=0\n",
    "    counter = 0\n",
    "    while True:\n",
    "        counter += 1\n",
    "        if a[i] == key:\n",
    "            break\n",
    "        i += 1\n",
    "    \n",
    "    return (-1, counter) if i == len(b) else (i, counter)"
   ]
  },
  {
   "cell_type": "code",
   "execution_count": 62,
   "metadata": {},
   "outputs": [
    {
     "name": "stdout",
     "output_type": "stream",
     "text": [
      "선형검색 While 문에서 검색값은 a[6]에 있습니다.\n",
      "선형검색 보초법에서 검색값은 a[6]에 있습니다.\n",
      "선형검색 While 문에서 if문은 14만큼 실행되었습니다.\n",
      "선형검색 보초법에서 if문은 7만큼 실행되었습니다.\n"
     ]
    }
   ],
   "source": [
    "a = [2, 5, 1, 3, 9, 6, 7]\n",
    "\n",
    "index0, counter0 = seq_search(a, 7)\n",
    "index1, counter1 = seq_search_sentinel(a, 7)\n",
    "\n",
    "if index0 == -1 and index1 == -1:\n",
    "    print('검색값을 갖는 원소가 존재하지 않습니다.')\n",
    "else:\n",
    "    print(f'선형검색 While 문에서 검색값은 a[{index0}]에 있습니다.')\n",
    "    print(f'선형검색 보초법에서 검색값은 a[{index1}]에 있습니다.')\n",
    "    print(f'선형검색 While 문에서 if문은 {counter0}만큼 실행되었습니다.')\n",
    "    print(f'선형검색 보초법에서 if문은 {counter1}만큼 실행되었습니다.')"
   ]
  },
  {
   "cell_type": "markdown",
   "metadata": {},
   "source": [
    "### 이진 검색"
   ]
  },
  {
   "cell_type": "code",
   "execution_count": 63,
   "metadata": {},
   "outputs": [],
   "source": [
    "# 이진 검색 알고리즘\n",
    "\n",
    "def bin_search(a, key):\n",
    "    pl = 0\n",
    "    pr = len(a)-1\n",
    "    \n",
    "    while True:\n",
    "        pc = (pl + pr) // 2\n",
    "        if a[pc] == key:\n",
    "            return pc\n",
    "        elif a[pc] < key:\n",
    "            pl = pc + 1\n",
    "        else:\n",
    "            pr = pc - 1\n",
    "        \n",
    "        if pl > pr:\n",
    "            break\n",
    "    \n",
    "    return -1"
   ]
  },
  {
   "cell_type": "code",
   "execution_count": 64,
   "metadata": {},
   "outputs": [
    {
     "name": "stdout",
     "output_type": "stream",
     "text": [
      "검색값은 a[6]에 있습니다.\n"
     ]
    }
   ],
   "source": [
    "a = [5, 7, 15, 28, 29, 31, 39, 58, 68, 70, 95]\n",
    "\n",
    "index = bin_search(a, 39)\n",
    "\n",
    "if index == -1:\n",
    "    print('검색값을 갖는 원소가 존재하지 않습니다.')\n",
    "else:\n",
    "    print(f'검색값은 a[{index}]에 있습니다.')"
   ]
  },
  {
   "cell_type": "markdown",
   "metadata": {},
   "source": [
    "### 실습 1"
   ]
  },
  {
   "cell_type": "markdown",
   "metadata": {},
   "source": [
    "- Q) 2부터 1000사이의 수 중에서 소수를 리스트에 입력하고 출력하여라."
   ]
  },
  {
   "cell_type": "code",
   "execution_count": 65,
   "metadata": {},
   "outputs": [
    {
     "name": "stdout",
     "output_type": "stream",
     "text": [
      "[2, 3, 5, 7, 11, 13, 17, 19, 23, 29, 31, 37, 41, 43, 47, 53, 59, 61, 67, 71, 73, 79, 83, 89, 97, 101, 103, 107, 109, 113, 127, 131, 137, 139, 149, 151, 157, 163, 167, 173, 179, 181, 191, 193, 197, 199, 211, 223, 227, 229, 233, 239, 241, 251, 257, 263, 269, 271, 277, 281, 283, 293, 307, 311, 313, 317, 331, 337, 347, 349, 353, 359, 367, 373, 379, 383, 389, 397, 401, 409, 419, 421, 431, 433, 439, 443, 449, 457, 461, 463, 467, 479, 487, 491, 499, 503, 509, 521, 523, 541, 547, 557, 563, 569, 571, 577, 587, 593, 599, 601, 607, 613, 617, 619, 631, 641, 643, 647, 653, 659, 661, 673, 677, 683, 691, 701, 709, 719, 727, 733, 739, 743, 751, 757, 761, 769, 773, 787, 797, 809, 811, 821, 823, 827, 829, 839, 853, 857, 859, 863, 877, 881, 883, 887, 907, 911, 919, 929, 937, 941, 947, 953, 967, 971, 977, 983, 991, 997]\n"
     ]
    }
   ],
   "source": [
    "prime = []\n",
    "\n",
    "for n in range(2, 1001):\n",
    "    flag = 0\n",
    "    for i in range(2, n):\n",
    "        if n % i == 0:\n",
    "            flag += 1\n",
    "        \n",
    "    if flag == 0:\n",
    "        prime.append(n)\n",
    "    \n",
    "print(prime)"
   ]
  },
  {
   "cell_type": "code",
   "execution_count": 66,
   "metadata": {},
   "outputs": [
    {
     "data": {
      "text/plain": [
       "168"
      ]
     },
     "execution_count": 66,
     "metadata": {},
     "output_type": "execute_result"
    }
   ],
   "source": [
    "len(prime)"
   ]
  },
  {
   "cell_type": "markdown",
   "metadata": {},
   "source": [
    "### 실습 2"
   ]
  },
  {
   "cell_type": "markdown",
   "metadata": {},
   "source": [
    "-  Q) 리스트를 사용자로부터 입력받아서 역순으로 정렬하여 리스트의 원소를 출력하여라.\n",
    "- 원소 수를 미리 묻지 말고 코드가 실행될 수 있도록하라."
   ]
  },
  {
   "cell_type": "code",
   "execution_count": 67,
   "metadata": {},
   "outputs": [],
   "source": [
    "def reverse_list(a):\n",
    "    n = len(a)\n",
    "    for i in range(n // 2):\n",
    "        a[i], a[n - i - 1] = a[n - i - 1], a[i]"
   ]
  },
  {
   "cell_type": "code",
   "execution_count": 68,
   "metadata": {},
   "outputs": [
    {
     "name": "stdout",
     "output_type": "stream",
     "text": [
      "리스트를 역순으로 정렬하여 출력합니다.\n",
      "주의: \"End\"를 입력하면 원소 입력을 종료합니다.\n",
      "x[0]값을 입력하세요.: 1\n",
      "x[1]값을 입력하세요.: 2\n",
      "x[2]값을 입력하세요.: 3\n",
      "x[3]값을 입력하세요.: 4\n",
      "x[4]값을 입력하세요.: End\n",
      "data[0] =  4\n",
      "data[1] =  3\n",
      "data[2] =  2\n",
      "data[3] =  1\n"
     ]
    }
   ],
   "source": [
    "print('리스트를 역순으로 정렬하여 출력합니다.')\n",
    "print('주의: \"End\"를 입력하면 원소 입력을 종료합니다.')\n",
    "i = 0\n",
    "data = []\n",
    "\n",
    "while True:\n",
    "    s = input('x[%d]값을 입력하세요.: ' %i)\n",
    "    if s == 'End':\n",
    "        break\n",
    "    data.append(int(s))\n",
    "    i += 1\n",
    "    \n",
    "reverse_list(data) # data.reverse()\n",
    "\n",
    "for i in range(len(data)):\n",
    "    print('data[%d] = ' %i, data[i])"
   ]
  },
  {
   "cell_type": "markdown",
   "metadata": {},
   "source": [
    "### 실습 3"
   ]
  },
  {
   "cell_type": "markdown",
   "metadata": {},
   "source": [
    "-  Q) 리스트와 검색할 값을 사용자로부터 입력받아서 검색값이 있는 인덱스를 출력하라.\n",
    "- 검색방안은 어떤 방안을 사용하여도 됩니다."
   ]
  },
  {
   "cell_type": "code",
   "execution_count": 69,
   "metadata": {},
   "outputs": [],
   "source": [
    "# 선형(순차) 검색\n",
    "def seq_search(a, key):\n",
    "    \n",
    "    for i in range(len(a)):\n",
    "        if a[i] == key:\n",
    "            return i\n",
    "        \n",
    "    return -1"
   ]
  },
  {
   "cell_type": "code",
   "execution_count": 70,
   "metadata": {},
   "outputs": [
    {
     "name": "stdout",
     "output_type": "stream",
     "text": [
      "리스트와 검색할 값을 입력받아 검색값이 있는 인덱스를 출력합니다.\n",
      "주의: \"End\"를 입력하면 원소 입력을 종료합니다.\n",
      "x[0]값을 입력하세요.: 1\n",
      "x[1]값을 입력하세요.: 2\n",
      "x[2]값을 입력하세요.: 3\n",
      "x[3]값을 입력하세요.: End\n",
      "검색할 값을 입력하세요.: 3\n",
      "검색값 3는 a[2]에 있습니다.\n"
     ]
    }
   ],
   "source": [
    "print('리스트와 검색할 값을 입력받아 검색값이 있는 인덱스를 출력합니다.')\n",
    "print('주의: \"End\"를 입력하면 원소 입력을 종료합니다.')\n",
    "i = 0\n",
    "data = []\n",
    "\n",
    "while True:\n",
    "    s = input('x[%d]값을 입력하세요.: ' %i)\n",
    "    if s == 'End':\n",
    "        break\n",
    "    data.append(int(s))\n",
    "    i += 1\n",
    "    \n",
    "key = int(input('검색할 값을 입력하세요.: '))\n",
    "    \n",
    "index = seq_search(data, key)\n",
    "\n",
    "if index == -1:\n",
    "    print('검색값 %d는 없습니다.' %key)\n",
    "else:\n",
    "    print('검색값 %d는 a[%d]에 있습니다.' %(key, index))"
   ]
  },
  {
   "cell_type": "markdown",
   "metadata": {},
   "source": [
    "### 실습 4"
   ]
  },
  {
   "cell_type": "markdown",
   "metadata": {},
   "source": [
    "- Q) 리스트를 사용자로부터 입력받아서 최대값과 최대값이 있는 인덱스를 출력하라."
   ]
  },
  {
   "cell_type": "code",
   "execution_count": 71,
   "metadata": {},
   "outputs": [],
   "source": [
    "def max_of(a):\n",
    "    maximum = a[0]\n",
    "    for i in range(1, len(a)):\n",
    "        if a[i] > maximum:\n",
    "            maximum = a[i]\n",
    "    return maximum"
   ]
  },
  {
   "cell_type": "code",
   "execution_count": 72,
   "metadata": {},
   "outputs": [],
   "source": [
    "def seq_search(a, key):\n",
    "    i = 0\n",
    "    \n",
    "    while True:\n",
    "        if i == len(a):\n",
    "            return -1\n",
    "        if a[i] == key:\n",
    "            return i\n",
    "        i += 1"
   ]
  },
  {
   "cell_type": "code",
   "execution_count": 74,
   "metadata": {},
   "outputs": [
    {
     "name": "stdout",
     "output_type": "stream",
     "text": [
      "리스트를 사용자로부터 입력받아서 최대값과 최대값이 있는 인덱스를 출력합니다.\n",
      "주의: \"End\"를 입력하면 원소 입력을 종료합니다.\n",
      "x[0]값을 입력하세요.: 1\n",
      "x[1]값을 입력하세요.: 2\n",
      "x[2]값을 입력하세요.: 3\n",
      "x[3]값을 입력하세요.: End\n",
      "최대값은 3이고 a[2]에 있습니다.\n"
     ]
    }
   ],
   "source": [
    "print('리스트를 사용자로부터 입력받아서 최대값과 최대값이 있는 인덱스를 출력합니다.')\n",
    "print('주의: \"End\"를 입력하면 원소 입력을 종료합니다.')\n",
    "i = 0\n",
    "x = []\n",
    "\n",
    "while True:\n",
    "    s = input('x[%d]값을 입력하세요.: ' %i)\n",
    "    if s == 'End':\n",
    "        break\n",
    "    x.append(int(s))\n",
    "    i += 1\n",
    "\n",
    "maximum = max_of(x)\n",
    "index = seq_search(x, maximum)\n",
    "\n",
    "print('최대값은 %d이고 a[%d]에 있습니다.' %(maximum, index))"
   ]
  }
 ],
 "metadata": {
  "hide_input": false,
  "kernelspec": {
   "display_name": "Python 3",
   "language": "python",
   "name": "python3"
  },
  "language_info": {
   "codemirror_mode": {
    "name": "ipython",
    "version": 3
   },
   "file_extension": ".py",
   "mimetype": "text/x-python",
   "name": "python",
   "nbconvert_exporter": "python",
   "pygments_lexer": "ipython3",
   "version": "3.7.6"
  },
  "toc": {
   "base_numbering": 1,
   "nav_menu": {},
   "number_sections": true,
   "sideBar": true,
   "skip_h1_title": false,
   "title_cell": "Table of Contents",
   "title_sidebar": "Contents",
   "toc_cell": false,
   "toc_position": {
    "height": "calc(100% - 180px)",
    "left": "10px",
    "top": "150px",
    "width": "170.486px"
   },
   "toc_section_display": true,
   "toc_window_display": false
  },
  "varInspector": {
   "cols": {
    "lenName": 16,
    "lenType": 16,
    "lenVar": 40
   },
   "kernels_config": {
    "python": {
     "delete_cmd_postfix": "",
     "delete_cmd_prefix": "del ",
     "library": "var_list.py",
     "varRefreshCmd": "print(var_dic_list())"
    },
    "r": {
     "delete_cmd_postfix": ") ",
     "delete_cmd_prefix": "rm(",
     "library": "var_list.r",
     "varRefreshCmd": "cat(var_dic_list()) "
    }
   },
   "types_to_exclude": [
    "module",
    "function",
    "builtin_function_or_method",
    "instance",
    "_Feature"
   ],
   "window_display": false
  }
 },
 "nbformat": 4,
 "nbformat_minor": 4
}
