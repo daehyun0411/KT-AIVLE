{
 "cells": [
  {
   "cell_type": "markdown",
   "metadata": {},
   "source": [
    "## Zigbang 원룸 매물 데이터 수집\n",
    "- https://www.zigbang.com/"
   ]
  },
  {
   "cell_type": "code",
   "execution_count": 9,
   "metadata": {},
   "outputs": [],
   "source": [
    "import requests\n",
    "import pandas as pd\n",
    "import geohash2"
   ]
  },
  {
   "cell_type": "code",
   "execution_count": 10,
   "metadata": {},
   "outputs": [],
   "source": [
    "# geohash2 설치\n",
    "#!pip install geohash2"
   ]
  },
  {
   "cell_type": "markdown",
   "metadata": {},
   "source": [
    "개발자 도구 > network > fetch/xhr"
   ]
  },
  {
   "cell_type": "markdown",
   "metadata": {},
   "source": [
    "- 절차(웹 서비스 분석을 통해 절차를 알아내자!)\n",
    "    - 동이름으로 위도 경도 수집\n",
    "    - 위도 경도로 geohash(영역) 변환\n",
    "    - geohash(영역)로 매물 아이디 가져오기\n",
    "    - 매물 아이디로 매물 정보 가져오기"
   ]
  },
  {
   "cell_type": "markdown",
   "metadata": {},
   "source": [
    "### 1. 동이름으로 위도 경도 구하기"
   ]
  },
  {
   "cell_type": "code",
   "execution_count": 14,
   "metadata": {},
   "outputs": [
    {
     "data": {
      "text/plain": [
       "(37.495365142822266, 127.03306579589844)"
      ]
     },
     "execution_count": 14,
     "metadata": {},
     "output_type": "execute_result"
    }
   ],
   "source": [
    "addr = \"강남구 역삼동\"\n",
    "url = f\"https://apis.zigbang.com/v2/search?leaseYn=N&q={addr}&serviceType=원룸\"\n",
    "response = requests.get(url)\n",
    "data = response.json()[\"items\"][0]\n",
    "lat, lng = data[\"lat\"], data[\"lng\"]\n",
    "lat, lng"
   ]
  },
  {
   "cell_type": "markdown",
   "metadata": {},
   "source": [
    "### 2. 위도 경도로 geohash 변환"
   ]
  },
  {
   "cell_type": "code",
   "execution_count": 6,
   "metadata": {},
   "outputs": [],
   "source": [
    "# install geohash2\n",
    "# !pip install geohash2"
   ]
  },
  {
   "cell_type": "code",
   "execution_count": 15,
   "metadata": {},
   "outputs": [
    {
     "data": {
      "text/plain": [
       "'wydm6'"
      ]
     },
     "execution_count": 15,
     "metadata": {},
     "output_type": "execute_result"
    }
   ],
   "source": [
    "# precision이 커질수록 영역이 작아짐\n",
    "geohash = geohash2.encode(lat, lng, precision=5)\n",
    "geohash"
   ]
  },
  {
   "cell_type": "markdown",
   "metadata": {},
   "source": [
    "### 3. geohash로 매물 아이디 가져오기"
   ]
  },
  {
   "cell_type": "code",
   "execution_count": 16,
   "metadata": {},
   "outputs": [
    {
     "data": {
      "text/plain": [
       "<Response [200]>"
      ]
     },
     "execution_count": 16,
     "metadata": {},
     "output_type": "execute_result"
    }
   ],
   "source": [
    "url = f\"https://apis.zigbang.com/v2/items?deposit_gteq=0&domain=zigbang\\\n",
    "&geohash={geohash}&needHasNoFiltered=true&rent_gteq=0&sales_type_in=전세|월세\\\n",
    "&service_type_eq=원룸\"\n",
    "response = requests.get(url)\n",
    "response"
   ]
  },
  {
   "cell_type": "code",
   "execution_count": 21,
   "metadata": {},
   "outputs": [
    {
     "data": {
      "text/plain": [
       "(2344, [32819635, 32838798, 32872608, 32838700, 32767020])"
      ]
     },
     "execution_count": 21,
     "metadata": {},
     "output_type": "execute_result"
    }
   ],
   "source": [
    "items = response.json()[\"items\"]\n",
    "len(items), items[:2]\n",
    "ids = [item[\"item_id\"] for item in items]\n",
    "len(ids), ids[:5]"
   ]
  },
  {
   "cell_type": "markdown",
   "metadata": {},
   "source": [
    "### 4. 매물 아이디로 매물 정보 가져오기"
   ]
  },
  {
   "cell_type": "code",
   "execution_count": 23,
   "metadata": {},
   "outputs": [
    {
     "data": {
      "text/plain": [
       "<Response [200]>"
      ]
     },
     "execution_count": 23,
     "metadata": {},
     "output_type": "execute_result"
    }
   ],
   "source": [
    "# 1000개 넘어가면 나눠서 수집해야 함\n",
    "url = \"https://apis.zigbang.com/v2/items/list\"\n",
    "# post 방식일때\n",
    "params = {\n",
    "    \"domain\": \"zigbang\",\n",
    "    \"withCoalition\": \"true\",\n",
    "    \"item_ids\": ids[:900]\n",
    "}\n",
    "response = requests.post(url, params)\n",
    "response"
   ]
  },
  {
   "cell_type": "code",
   "execution_count": 35,
   "metadata": {},
   "outputs": [
    {
     "data": {
      "text/html": [
       "<div>\n",
       "<style scoped>\n",
       "    .dataframe tbody tr th:only-of-type {\n",
       "        vertical-align: middle;\n",
       "    }\n",
       "\n",
       "    .dataframe tbody tr th {\n",
       "        vertical-align: top;\n",
       "    }\n",
       "\n",
       "    .dataframe thead th {\n",
       "        text-align: right;\n",
       "    }\n",
       "</style>\n",
       "<table border=\"1\" class=\"dataframe\">\n",
       "  <thead>\n",
       "    <tr style=\"text-align: right;\">\n",
       "      <th></th>\n",
       "      <th>item_id</th>\n",
       "      <th>sales_type</th>\n",
       "      <th>deposit</th>\n",
       "      <th>rent</th>\n",
       "      <th>size_m2</th>\n",
       "      <th>address1</th>\n",
       "      <th>manage_cost</th>\n",
       "    </tr>\n",
       "  </thead>\n",
       "  <tbody>\n",
       "    <tr>\n",
       "      <th>0</th>\n",
       "      <td>32819635</td>\n",
       "      <td>전세</td>\n",
       "      <td>16500</td>\n",
       "      <td>0</td>\n",
       "      <td>39.89</td>\n",
       "      <td>서울시 서초구 서초동</td>\n",
       "      <td>7.5</td>\n",
       "    </tr>\n",
       "    <tr>\n",
       "      <th>1</th>\n",
       "      <td>32838798</td>\n",
       "      <td>월세</td>\n",
       "      <td>1000</td>\n",
       "      <td>68</td>\n",
       "      <td>37.56</td>\n",
       "      <td>서울시 서초구 서초동</td>\n",
       "      <td>7.5</td>\n",
       "    </tr>\n",
       "    <tr>\n",
       "      <th>2</th>\n",
       "      <td>32872608</td>\n",
       "      <td>월세</td>\n",
       "      <td>1000</td>\n",
       "      <td>70</td>\n",
       "      <td>37.56</td>\n",
       "      <td>서울시 서초구 서초동</td>\n",
       "      <td>7.5</td>\n",
       "    </tr>\n",
       "    <tr>\n",
       "      <th>3</th>\n",
       "      <td>32838700</td>\n",
       "      <td>전세</td>\n",
       "      <td>50400</td>\n",
       "      <td>0</td>\n",
       "      <td>66.12</td>\n",
       "      <td>서울시 서초구 서초동</td>\n",
       "      <td>9</td>\n",
       "    </tr>\n",
       "    <tr>\n",
       "      <th>4</th>\n",
       "      <td>32767020</td>\n",
       "      <td>월세</td>\n",
       "      <td>20000</td>\n",
       "      <td>90</td>\n",
       "      <td>60.12</td>\n",
       "      <td>서울시 서초구 서초동</td>\n",
       "      <td>5</td>\n",
       "    </tr>\n",
       "  </tbody>\n",
       "</table>\n",
       "</div>"
      ],
      "text/plain": [
       "    item_id sales_type  deposit  rent  size_m2     address1 manage_cost\n",
       "0  32819635         전세    16500     0    39.89  서울시 서초구 서초동         7.5\n",
       "1  32838798         월세     1000    68    37.56  서울시 서초구 서초동         7.5\n",
       "2  32872608         월세     1000    70    37.56  서울시 서초구 서초동         7.5\n",
       "3  32838700         전세    50400     0    66.12  서울시 서초구 서초동           9\n",
       "4  32767020         월세    20000    90    60.12  서울시 서초구 서초동           5"
      ]
     },
     "execution_count": 35,
     "metadata": {},
     "output_type": "execute_result"
    }
   ],
   "source": [
    "items = response.json()[\"items\"]\n",
    "columns = [\"item_id\", \"sales_type\", \"deposit\", \"rent\", \"size_m2\", \"address1\", \"manage_cost\"]\n",
    "df = pd.DataFrame(items)[columns]\n",
    "df.head()"
   ]
  },
  {
   "cell_type": "code",
   "execution_count": 27,
   "metadata": {},
   "outputs": [
    {
     "name": "stdout",
     "output_type": "stream",
     "text": [
      "50\n",
      "50\n"
     ]
    }
   ],
   "source": [
    "# max row, max column 설정\n",
    "pd.options.display.max_columns = 50"
   ]
  },
  {
   "cell_type": "code",
   "execution_count": 36,
   "metadata": {},
   "outputs": [
    {
     "data": {
      "text/html": [
       "<div>\n",
       "<style scoped>\n",
       "    .dataframe tbody tr th:only-of-type {\n",
       "        vertical-align: middle;\n",
       "    }\n",
       "\n",
       "    .dataframe tbody tr th {\n",
       "        vertical-align: top;\n",
       "    }\n",
       "\n",
       "    .dataframe thead th {\n",
       "        text-align: right;\n",
       "    }\n",
       "</style>\n",
       "<table border=\"1\" class=\"dataframe\">\n",
       "  <thead>\n",
       "    <tr style=\"text-align: right;\">\n",
       "      <th></th>\n",
       "      <th>item_id</th>\n",
       "      <th>sales_type</th>\n",
       "      <th>deposit</th>\n",
       "      <th>rent</th>\n",
       "      <th>size_m2</th>\n",
       "      <th>address1</th>\n",
       "      <th>manage_cost</th>\n",
       "    </tr>\n",
       "  </thead>\n",
       "  <tbody>\n",
       "    <tr>\n",
       "      <th>0</th>\n",
       "      <td>32505365</td>\n",
       "      <td>월세</td>\n",
       "      <td>120</td>\n",
       "      <td>110</td>\n",
       "      <td>29.75</td>\n",
       "      <td>서울시 강남구 역삼동</td>\n",
       "      <td>7</td>\n",
       "    </tr>\n",
       "    <tr>\n",
       "      <th>1</th>\n",
       "      <td>32828417</td>\n",
       "      <td>월세</td>\n",
       "      <td>120</td>\n",
       "      <td>120</td>\n",
       "      <td>33.06</td>\n",
       "      <td>서울시 강남구 역삼동</td>\n",
       "      <td>15</td>\n",
       "    </tr>\n",
       "    <tr>\n",
       "      <th>2</th>\n",
       "      <td>32872905</td>\n",
       "      <td>월세</td>\n",
       "      <td>200</td>\n",
       "      <td>160</td>\n",
       "      <td>31.62</td>\n",
       "      <td>서울시 강남구 역삼동</td>\n",
       "      <td>8</td>\n",
       "    </tr>\n",
       "    <tr>\n",
       "      <th>3</th>\n",
       "      <td>32766952</td>\n",
       "      <td>월세</td>\n",
       "      <td>500</td>\n",
       "      <td>50</td>\n",
       "      <td>24.50</td>\n",
       "      <td>서울시 강남구 역삼동</td>\n",
       "      <td>5</td>\n",
       "    </tr>\n",
       "    <tr>\n",
       "      <th>4</th>\n",
       "      <td>32836662</td>\n",
       "      <td>월세</td>\n",
       "      <td>500</td>\n",
       "      <td>50</td>\n",
       "      <td>23.14</td>\n",
       "      <td>서울시 강남구 역삼동</td>\n",
       "      <td>5</td>\n",
       "    </tr>\n",
       "  </tbody>\n",
       "</table>\n",
       "</div>"
      ],
      "text/plain": [
       "    item_id sales_type  deposit  rent  size_m2     address1 manage_cost\n",
       "0  32505365         월세      120   110    29.75  서울시 강남구 역삼동           7\n",
       "1  32828417         월세      120   120    33.06  서울시 강남구 역삼동          15\n",
       "2  32872905         월세      200   160    31.62  서울시 강남구 역삼동           8\n",
       "3  32766952         월세      500    50    24.50  서울시 강남구 역삼동           5\n",
       "4  32836662         월세      500    50    23.14  서울시 강남구 역삼동           5"
      ]
     },
     "execution_count": 36,
     "metadata": {},
     "output_type": "execute_result"
    }
   ],
   "source": [
    "# 주소에 역삼동이 있는 데이터만 필터링\n",
    "result_df = df[df[\"address1\"].str.contains(\"역삼동\")]\n",
    "result_df = result_df.reset_index(drop=True)\n",
    "result_df.head()"
   ]
  },
  {
   "cell_type": "markdown",
   "metadata": {},
   "source": [
    "### 5. 함수 만들기"
   ]
  },
  {
   "cell_type": "code",
   "execution_count": 37,
   "metadata": {},
   "outputs": [],
   "source": [
    "# 함수 만들기\n",
    "def oneroom(addr):\n",
    "    url = f\"https://apis.zigbang.com/v2/search?leaseYn=N&q={addr}&serviceType=원룸\"\n",
    "    response = requests.get(url)\n",
    "    data = response.json()[\"items\"][0]\n",
    "    lat, lng = data[\"lat\"], data[\"lng\"]\n",
    "    \n",
    "    geohash = geohash2.encode(lat, lng, precision=5)\n",
    "    \n",
    "    url = f\"https://apis.zigbang.com/v2/items?deposit_gteq=0&domain=zigbang\\\n",
    "&geohash={geohash}&needHasNoFiltered=true&rent_gteq=0&sales_type_in=전세|월세\\\n",
    "&service_type_eq=원룸\"\n",
    "    response = requests.get(url)\n",
    "    items = response.json()[\"items\"]\n",
    "    ids = [item[\"item_id\"] for item in items]\n",
    "    \n",
    "    url = \"https://apis.zigbang.com/v2/items/list\"\n",
    "    params = {\n",
    "        \"domain\": \"zigbang\",\n",
    "        \"withCoalition\": \"true\",\n",
    "        \"item_ids\": ids[:900]\n",
    "    }\n",
    "    response = requests.post(url, params)\n",
    "    \n",
    "    items = response.json()[\"items\"]\n",
    "    columns = [\"item_id\", \"sales_type\", \"deposit\", \"rent\", \"size_m2\", \"address1\", \"manage_cost\"]\n",
    "    return pd.DataFrame(items)[columns]"
   ]
  },
  {
   "cell_type": "code",
   "execution_count": 38,
   "metadata": {},
   "outputs": [
    {
     "data": {
      "text/html": [
       "<div>\n",
       "<style scoped>\n",
       "    .dataframe tbody tr th:only-of-type {\n",
       "        vertical-align: middle;\n",
       "    }\n",
       "\n",
       "    .dataframe tbody tr th {\n",
       "        vertical-align: top;\n",
       "    }\n",
       "\n",
       "    .dataframe thead th {\n",
       "        text-align: right;\n",
       "    }\n",
       "</style>\n",
       "<table border=\"1\" class=\"dataframe\">\n",
       "  <thead>\n",
       "    <tr style=\"text-align: right;\">\n",
       "      <th></th>\n",
       "      <th>item_id</th>\n",
       "      <th>sales_type</th>\n",
       "      <th>deposit</th>\n",
       "      <th>rent</th>\n",
       "      <th>size_m2</th>\n",
       "      <th>address1</th>\n",
       "      <th>manage_cost</th>\n",
       "    </tr>\n",
       "  </thead>\n",
       "  <tbody>\n",
       "    <tr>\n",
       "      <th>0</th>\n",
       "      <td>32864713</td>\n",
       "      <td>전세</td>\n",
       "      <td>9000</td>\n",
       "      <td>0</td>\n",
       "      <td>21.49</td>\n",
       "      <td>서울시 영등포구 당산동4가</td>\n",
       "      <td>13</td>\n",
       "    </tr>\n",
       "    <tr>\n",
       "      <th>1</th>\n",
       "      <td>32694522</td>\n",
       "      <td>전세</td>\n",
       "      <td>9000</td>\n",
       "      <td>0</td>\n",
       "      <td>19.83</td>\n",
       "      <td>서울시 영등포구 당산동4가</td>\n",
       "      <td>13</td>\n",
       "    </tr>\n",
       "    <tr>\n",
       "      <th>2</th>\n",
       "      <td>32822043</td>\n",
       "      <td>전세</td>\n",
       "      <td>9000</td>\n",
       "      <td>0</td>\n",
       "      <td>16.53</td>\n",
       "      <td>서울시 영등포구 당산동4가</td>\n",
       "      <td>13</td>\n",
       "    </tr>\n",
       "    <tr>\n",
       "      <th>3</th>\n",
       "      <td>32827028</td>\n",
       "      <td>전세</td>\n",
       "      <td>9000</td>\n",
       "      <td>0</td>\n",
       "      <td>19.83</td>\n",
       "      <td>서울시 영등포구 당산동4가</td>\n",
       "      <td>13</td>\n",
       "    </tr>\n",
       "    <tr>\n",
       "      <th>4</th>\n",
       "      <td>32856780</td>\n",
       "      <td>전세</td>\n",
       "      <td>7000</td>\n",
       "      <td>0</td>\n",
       "      <td>19.83</td>\n",
       "      <td>서울시 영등포구 당산동4가</td>\n",
       "      <td>13</td>\n",
       "    </tr>\n",
       "    <tr>\n",
       "      <th>...</th>\n",
       "      <td>...</td>\n",
       "      <td>...</td>\n",
       "      <td>...</td>\n",
       "      <td>...</td>\n",
       "      <td>...</td>\n",
       "      <td>...</td>\n",
       "      <td>...</td>\n",
       "    </tr>\n",
       "    <tr>\n",
       "      <th>739</th>\n",
       "      <td>32831032</td>\n",
       "      <td>월세</td>\n",
       "      <td>200</td>\n",
       "      <td>65</td>\n",
       "      <td>18.18</td>\n",
       "      <td>서울시 마포구 성산동</td>\n",
       "      <td>7</td>\n",
       "    </tr>\n",
       "    <tr>\n",
       "      <th>740</th>\n",
       "      <td>32775788</td>\n",
       "      <td>전세</td>\n",
       "      <td>16500</td>\n",
       "      <td>0</td>\n",
       "      <td>19.83</td>\n",
       "      <td>서울시 마포구 성산동</td>\n",
       "      <td>1</td>\n",
       "    </tr>\n",
       "    <tr>\n",
       "      <th>741</th>\n",
       "      <td>32589981</td>\n",
       "      <td>전세</td>\n",
       "      <td>43000</td>\n",
       "      <td>0</td>\n",
       "      <td>49.00</td>\n",
       "      <td>서울시 마포구 중동</td>\n",
       "      <td>7</td>\n",
       "    </tr>\n",
       "    <tr>\n",
       "      <th>742</th>\n",
       "      <td>32862490</td>\n",
       "      <td>전세</td>\n",
       "      <td>43000</td>\n",
       "      <td>0</td>\n",
       "      <td>31.74</td>\n",
       "      <td>서울시 마포구 중동</td>\n",
       "      <td>5</td>\n",
       "    </tr>\n",
       "    <tr>\n",
       "      <th>743</th>\n",
       "      <td>32866975</td>\n",
       "      <td>월세</td>\n",
       "      <td>3000</td>\n",
       "      <td>90</td>\n",
       "      <td>49.59</td>\n",
       "      <td>서울시 마포구 중동</td>\n",
       "      <td>2</td>\n",
       "    </tr>\n",
       "  </tbody>\n",
       "</table>\n",
       "<p>744 rows × 7 columns</p>\n",
       "</div>"
      ],
      "text/plain": [
       "      item_id sales_type  deposit  rent  size_m2        address1 manage_cost\n",
       "0    32864713         전세     9000     0    21.49  서울시 영등포구 당산동4가          13\n",
       "1    32694522         전세     9000     0    19.83  서울시 영등포구 당산동4가          13\n",
       "2    32822043         전세     9000     0    16.53  서울시 영등포구 당산동4가          13\n",
       "3    32827028         전세     9000     0    19.83  서울시 영등포구 당산동4가          13\n",
       "4    32856780         전세     7000     0    19.83  서울시 영등포구 당산동4가          13\n",
       "..        ...        ...      ...   ...      ...             ...         ...\n",
       "739  32831032         월세      200    65    18.18     서울시 마포구 성산동           7\n",
       "740  32775788         전세    16500     0    19.83     서울시 마포구 성산동           1\n",
       "741  32589981         전세    43000     0    49.00      서울시 마포구 중동           7\n",
       "742  32862490         전세    43000     0    31.74      서울시 마포구 중동           5\n",
       "743  32866975         월세     3000    90    49.59      서울시 마포구 중동           2\n",
       "\n",
       "[744 rows x 7 columns]"
      ]
     },
     "execution_count": 38,
     "metadata": {},
     "output_type": "execute_result"
    }
   ],
   "source": [
    "oneroom(\"마포구 합정동\")"
   ]
  },
  {
   "cell_type": "markdown",
   "metadata": {},
   "source": [
    "### 6. 모듈 파일 만들기\n",
    "- .py"
   ]
  },
  {
   "cell_type": "code",
   "execution_count": 40,
   "metadata": {},
   "outputs": [
    {
     "name": "stdout",
     "output_type": "stream",
     "text": [
      "Writing zigbang.py\n"
     ]
    }
   ],
   "source": [
    "%%writefile zigbang.py\n",
    "# 가장 위의 위치\n",
    "import requests\n",
    "import pandas as pd\n",
    "import geohash2\n",
    "\n",
    "def oneroom(addr):\n",
    "    url = f\"https://apis.zigbang.com/v2/search?leaseYn=N&q={addr}&serviceType=원룸\"\n",
    "    response = requests.get(url)\n",
    "    data = response.json()[\"items\"][0]\n",
    "    lat, lng = data[\"lat\"], data[\"lng\"]\n",
    "    \n",
    "    geohash = geohash2.encode(lat, lng, precision=5)\n",
    "    \n",
    "    url = f\"https://apis.zigbang.com/v2/items?deposit_gteq=0&domain=zigbang\\\n",
    "&geohash={geohash}&needHasNoFiltered=true&rent_gteq=0&sales_type_in=전세|월세\\\n",
    "&service_type_eq=원룸\"\n",
    "    response = requests.get(url)\n",
    "    items = response.json()[\"items\"]\n",
    "    ids = [item[\"item_id\"] for item in items]\n",
    "    \n",
    "    url = \"https://apis.zigbang.com/v2/items/list\"\n",
    "    params = {\n",
    "        \"domain\": \"zigbang\",\n",
    "        \"withCoalition\": \"true\",\n",
    "        \"item_ids\": ids[:900]\n",
    "    }\n",
    "    response = requests.post(url, params)\n",
    "    \n",
    "    items = response.json()[\"items\"]\n",
    "    columns = [\"item_id\", \"sales_type\", \"deposit\", \"rent\", \"size_m2\", \"address1\", \"manage_cost\"]\n",
    "    return pd.DataFrame(items)[columns]"
   ]
  },
  {
   "cell_type": "code",
   "execution_count": 41,
   "metadata": {},
   "outputs": [],
   "source": [
    "import zigbang as zb"
   ]
  },
  {
   "cell_type": "code",
   "execution_count": 42,
   "metadata": {},
   "outputs": [
    {
     "data": {
      "text/html": [
       "<div>\n",
       "<style scoped>\n",
       "    .dataframe tbody tr th:only-of-type {\n",
       "        vertical-align: middle;\n",
       "    }\n",
       "\n",
       "    .dataframe tbody tr th {\n",
       "        vertical-align: top;\n",
       "    }\n",
       "\n",
       "    .dataframe thead th {\n",
       "        text-align: right;\n",
       "    }\n",
       "</style>\n",
       "<table border=\"1\" class=\"dataframe\">\n",
       "  <thead>\n",
       "    <tr style=\"text-align: right;\">\n",
       "      <th></th>\n",
       "      <th>item_id</th>\n",
       "      <th>sales_type</th>\n",
       "      <th>deposit</th>\n",
       "      <th>rent</th>\n",
       "      <th>size_m2</th>\n",
       "      <th>address1</th>\n",
       "      <th>manage_cost</th>\n",
       "    </tr>\n",
       "  </thead>\n",
       "  <tbody>\n",
       "    <tr>\n",
       "      <th>0</th>\n",
       "      <td>32864713</td>\n",
       "      <td>전세</td>\n",
       "      <td>9000</td>\n",
       "      <td>0</td>\n",
       "      <td>21.49</td>\n",
       "      <td>서울시 영등포구 당산동4가</td>\n",
       "      <td>13</td>\n",
       "    </tr>\n",
       "    <tr>\n",
       "      <th>1</th>\n",
       "      <td>32694522</td>\n",
       "      <td>전세</td>\n",
       "      <td>9000</td>\n",
       "      <td>0</td>\n",
       "      <td>19.83</td>\n",
       "      <td>서울시 영등포구 당산동4가</td>\n",
       "      <td>13</td>\n",
       "    </tr>\n",
       "    <tr>\n",
       "      <th>2</th>\n",
       "      <td>32822043</td>\n",
       "      <td>전세</td>\n",
       "      <td>9000</td>\n",
       "      <td>0</td>\n",
       "      <td>16.53</td>\n",
       "      <td>서울시 영등포구 당산동4가</td>\n",
       "      <td>13</td>\n",
       "    </tr>\n",
       "    <tr>\n",
       "      <th>3</th>\n",
       "      <td>32827028</td>\n",
       "      <td>전세</td>\n",
       "      <td>9000</td>\n",
       "      <td>0</td>\n",
       "      <td>19.83</td>\n",
       "      <td>서울시 영등포구 당산동4가</td>\n",
       "      <td>13</td>\n",
       "    </tr>\n",
       "    <tr>\n",
       "      <th>4</th>\n",
       "      <td>32856780</td>\n",
       "      <td>전세</td>\n",
       "      <td>7000</td>\n",
       "      <td>0</td>\n",
       "      <td>19.83</td>\n",
       "      <td>서울시 영등포구 당산동4가</td>\n",
       "      <td>13</td>\n",
       "    </tr>\n",
       "  </tbody>\n",
       "</table>\n",
       "</div>"
      ],
      "text/plain": [
       "    item_id sales_type  deposit  rent  size_m2        address1 manage_cost\n",
       "0  32864713         전세     9000     0    21.49  서울시 영등포구 당산동4가          13\n",
       "1  32694522         전세     9000     0    19.83  서울시 영등포구 당산동4가          13\n",
       "2  32822043         전세     9000     0    16.53  서울시 영등포구 당산동4가          13\n",
       "3  32827028         전세     9000     0    19.83  서울시 영등포구 당산동4가          13\n",
       "4  32856780         전세     7000     0    19.83  서울시 영등포구 당산동4가          13"
      ]
     },
     "execution_count": 42,
     "metadata": {},
     "output_type": "execute_result"
    }
   ],
   "source": [
    "df = zb.oneroom(\"망원동\")\n",
    "df.head()"
   ]
  },
  {
   "cell_type": "code",
   "execution_count": 47,
   "metadata": {},
   "outputs": [
    {
     "name": "stdout",
     "output_type": "stream",
     "text": [
      "Variable          Type                          Data/Info\n",
      "---------------------------------------------------------\n",
      "NamespaceMagics   MetaHasTraits                 <class 'IPython.core.magi<...>mespace.NamespaceMagics'>\n",
      "get_ipython       function                      <function get_ipython at 0x000001C6F3A43DC8>\n",
      "getsizeof         builtin_function_or_method    <built-in function getsizeof>\n",
      "json              module                        <module 'json' from 'C:\\\\<...>\\lib\\\\json\\\\__init__.py'>\n",
      "np                module                        <module 'numpy' from 'C:\\<...>ges\\\\numpy\\\\__init__.py'>\n",
      "var_dic_list      function                      <function var_dic_list at 0x000001C6FA392678>\n"
     ]
    }
   ],
   "source": [
    "# 변수목록\n",
    "%whos"
   ]
  },
  {
   "cell_type": "code",
   "execution_count": 46,
   "metadata": {},
   "outputs": [
    {
     "name": "stdout",
     "output_type": "stream",
     "text": [
      "Once deleted, variables cannot be recovered. Proceed (y/[n])? y\n"
     ]
    }
   ],
   "source": [
    "# 변수 초기화\n",
    "%reset"
   ]
  }
 ],
 "metadata": {
  "hide_input": false,
  "kernelspec": {
   "display_name": "Python 3",
   "language": "python",
   "name": "python3"
  },
  "language_info": {
   "codemirror_mode": {
    "name": "ipython",
    "version": 3
   },
   "file_extension": ".py",
   "mimetype": "text/x-python",
   "name": "python",
   "nbconvert_exporter": "python",
   "pygments_lexer": "ipython3",
   "version": "3.7.6"
  },
  "toc": {
   "base_numbering": 1,
   "nav_menu": {},
   "number_sections": false,
   "sideBar": true,
   "skip_h1_title": false,
   "title_cell": "Table of Contents",
   "title_sidebar": "Contents",
   "toc_cell": false,
   "toc_position": {},
   "toc_section_display": true,
   "toc_window_display": true
  },
  "varInspector": {
   "cols": {
    "lenName": 16,
    "lenType": 16,
    "lenVar": 40
   },
   "kernels_config": {
    "python": {
     "delete_cmd_postfix": "",
     "delete_cmd_prefix": "del ",
     "library": "var_list.py",
     "varRefreshCmd": "print(var_dic_list())"
    },
    "r": {
     "delete_cmd_postfix": ") ",
     "delete_cmd_prefix": "rm(",
     "library": "var_list.r",
     "varRefreshCmd": "cat(var_dic_list()) "
    }
   },
   "types_to_exclude": [
    "module",
    "function",
    "builtin_function_or_method",
    "instance",
    "_Feature"
   ],
   "window_display": false
  }
 },
 "nbformat": 4,
 "nbformat_minor": 5
}
