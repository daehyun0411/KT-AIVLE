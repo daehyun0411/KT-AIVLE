{
 "cells": [
  {
   "cell_type": "markdown",
   "metadata": {
    "id": "Xi_yurwiORB7"
   },
   "source": [
    "# 서울시 인구 분석"
   ]
  },
  {
   "cell_type": "markdown",
   "metadata": {
    "id": "4wk8yXgF1FYk"
   },
   "source": [
    "<img src='https://raw.githubusercontent.com/Jangrae/img/master/people2.png' width=\"650\" align=\"left\">"
   ]
  },
  {
   "cell_type": "markdown",
   "metadata": {
    "id": "0uNXxebRGrd8"
   },
   "source": [
    "## 1. 라이브러리 불러오기\n",
    "\n",
    "- 사용할 라이브러리를 불러옵니다."
   ]
  },
  {
   "cell_type": "code",
   "execution_count": 1,
   "metadata": {
    "id": "p3lUS_fyqvnh"
   },
   "outputs": [],
   "source": [
    "import pandas as pd\n",
    "import numpy as np"
   ]
  },
  {
   "cell_type": "markdown",
   "metadata": {
    "id": "ul8zKgxCqvnh"
   },
   "source": [
    "* 데이터 불러오기\n",
    "\n",
    "    - 다음 경로의 파일을 읽어와 pop01, pop02, pop03 데이터프레임을 만듭니다.\n",
    "    - 파일 경로1: https://raw.githubusercontent.com/Jangrae/csv/master/seoul_pop_h01.csv\n",
    "    - 파일 경로2: https://raw.githubusercontent.com/Jangrae/csv/master/seoul_pop_h02.csv\n",
    "    - 파일 경로3: https://raw.githubusercontent.com/Jangrae/csv/master/seoul_pop_h03.csv"
   ]
  },
  {
   "cell_type": "code",
   "execution_count": 2,
   "metadata": {
    "id": "91c9vKQ0E1A4"
   },
   "outputs": [],
   "source": [
    "pop01 = pd.read_csv(\"https://raw.githubusercontent.com/Jangrae/csv/master/seoul_pop_h01.csv\")"
   ]
  },
  {
   "cell_type": "code",
   "execution_count": 3,
   "metadata": {
    "id": "QSedynVWEp3W"
   },
   "outputs": [],
   "source": [
    "pop02 = pd.read_csv(\"https://raw.githubusercontent.com/Jangrae/csv/master/seoul_pop_h02.csv\")"
   ]
  },
  {
   "cell_type": "code",
   "execution_count": 4,
   "metadata": {
    "id": "OPfgGedaEqnw"
   },
   "outputs": [],
   "source": [
    "pop03 = pd.read_csv(\"https://raw.githubusercontent.com/Jangrae/csv/master/seoul_pop_h03.csv\")"
   ]
  },
  {
   "cell_type": "markdown",
   "metadata": {
    "id": "YskAXv8avBKD"
   },
   "source": [
    "## 2. 데이터 탐색\n",
    "\n",
    "다음과 같은 정보 확인을 통해 처리할 대상 데이터를 이해합니다.\n",
    "- 상/하위 데이터 확인\n",
    "- 데이터프레임 크기 확인\n",
    "- 열 이름, 데이터 형식, 값 개수 등 확인\n",
    "- 기초 통계정보 확인\n",
    "- 결측치 확인\n",
    "- 범주형 데이터 확인\n",
    "- 개별 열 값 상세 확인 등"
   ]
  },
  {
   "cell_type": "markdown",
   "metadata": {
    "id": "DGGFZli-V9pv"
   },
   "source": [
    "**1) 데이터프레임 크기 확인**\n",
    "\n",
    "- 세 개의 데이터프레임 크기(행 수, 열 수)를 확인합니다."
   ]
  },
  {
   "cell_type": "code",
   "execution_count": 5,
   "metadata": {
    "id": "rLzk_ydnvQzs"
   },
   "outputs": [
    {
     "name": "stdout",
     "output_type": "stream",
     "text": [
      "(40, 3)\n",
      "(36, 3)\n",
      "(40, 3)\n"
     ]
    }
   ],
   "source": [
    "print(pop01.shape)\n",
    "print(pop02.shape)\n",
    "print(pop03.shape)"
   ]
  },
  {
   "cell_type": "markdown",
   "metadata": {
    "id": "PvfJBoYFWD7d"
   },
   "source": [
    "**2) year 최솟값, 최댓값 확인**\n",
    "\n",
    "- 세 개의 데이터프레임 year열 최솟값, 최댓값 크기를 비교해 차이가 있는 지 각각 확인합니다."
   ]
  },
  {
   "cell_type": "code",
   "execution_count": 6,
   "metadata": {
    "id": "HLYDQZLSwlic"
   },
   "outputs": [
    {
     "name": "stdout",
     "output_type": "stream",
     "text": [
      "2020 2020 2020\n",
      "1981 1985 1981\n"
     ]
    }
   ],
   "source": [
    "print(pop01['year'].max(),pop02['year'].max(),pop03['year'].max())\n",
    "print(pop01['year'].min(),pop02['year'].min(),pop03['year'].min())"
   ]
  },
  {
   "cell_type": "markdown",
   "metadata": {
    "id": "ia5a8bYdWRRY"
   },
   "source": [
    "**3) 결측치 확인**\n",
    "\n",
    "- 세 개의 데이터프레임에 결측치가 있는 지 각각 확인합니다."
   ]
  },
  {
   "cell_type": "code",
   "execution_count": 7,
   "metadata": {
    "id": "eGIIvQrPx1aj"
   },
   "outputs": [
    {
     "data": {
      "text/plain": [
       "year        0\n",
       "k_male      0\n",
       "k_female    0\n",
       "dtype: int64"
      ]
     },
     "execution_count": 7,
     "metadata": {},
     "output_type": "execute_result"
    }
   ],
   "source": [
    "pop01.isna().sum()"
   ]
  },
  {
   "cell_type": "code",
   "execution_count": 8,
   "metadata": {},
   "outputs": [
    {
     "data": {
      "text/plain": [
       "year        0\n",
       "f_male      0\n",
       "f_female    0\n",
       "dtype: int64"
      ]
     },
     "execution_count": 8,
     "metadata": {},
     "output_type": "execute_result"
    }
   ],
   "source": [
    "pop02.isna().sum()"
   ]
  },
  {
   "cell_type": "code",
   "execution_count": 9,
   "metadata": {},
   "outputs": [
    {
     "data": {
      "text/plain": [
       "year         0\n",
       "household    0\n",
       "older_65     0\n",
       "dtype: int64"
      ]
     },
     "execution_count": 9,
     "metadata": {},
     "output_type": "execute_result"
    }
   ],
   "source": [
    "pop03.isna().sum()"
   ]
  },
  {
   "cell_type": "markdown",
   "metadata": {
    "id": "1OSzZhf-7oqD"
   },
   "source": [
    "**4) 열 정보 확인**\n",
    "\n",
    "- 세 개의 데이터프레임의 열 정보를 확인합니다."
   ]
  },
  {
   "cell_type": "code",
   "execution_count": 10,
   "metadata": {
    "id": "HXq3am7Q7oqD",
    "scrolled": true
   },
   "outputs": [
    {
     "name": "stdout",
     "output_type": "stream",
     "text": [
      "<class 'pandas.core.frame.DataFrame'>\n",
      "RangeIndex: 40 entries, 0 to 39\n",
      "Data columns (total 3 columns):\n",
      " #   Column    Non-Null Count  Dtype\n",
      "---  ------    --------------  -----\n",
      " 0   year      40 non-null     int64\n",
      " 1   k_male    40 non-null     int64\n",
      " 2   k_female  40 non-null     int64\n",
      "dtypes: int64(3)\n",
      "memory usage: 1.1 KB\n"
     ]
    }
   ],
   "source": [
    "pop01.info()"
   ]
  },
  {
   "cell_type": "code",
   "execution_count": 11,
   "metadata": {},
   "outputs": [
    {
     "name": "stdout",
     "output_type": "stream",
     "text": [
      "<class 'pandas.core.frame.DataFrame'>\n",
      "RangeIndex: 36 entries, 0 to 35\n",
      "Data columns (total 3 columns):\n",
      " #   Column    Non-Null Count  Dtype\n",
      "---  ------    --------------  -----\n",
      " 0   year      36 non-null     int64\n",
      " 1   f_male    36 non-null     int64\n",
      " 2   f_female  36 non-null     int64\n",
      "dtypes: int64(3)\n",
      "memory usage: 992.0 bytes\n"
     ]
    }
   ],
   "source": [
    "pop02.info()"
   ]
  },
  {
   "cell_type": "code",
   "execution_count": 12,
   "metadata": {},
   "outputs": [
    {
     "name": "stdout",
     "output_type": "stream",
     "text": [
      "<class 'pandas.core.frame.DataFrame'>\n",
      "RangeIndex: 40 entries, 0 to 39\n",
      "Data columns (total 3 columns):\n",
      " #   Column     Non-Null Count  Dtype\n",
      "---  ------     --------------  -----\n",
      " 0   year       40 non-null     int64\n",
      " 1   household  40 non-null     int64\n",
      " 2   older_65   40 non-null     int64\n",
      "dtypes: int64(3)\n",
      "memory usage: 1.1 KB\n"
     ]
    }
   ],
   "source": [
    "pop03.info()"
   ]
  },
  {
   "cell_type": "markdown",
   "metadata": {
    "id": "90Xyn_eRsjM1"
   },
   "source": [
    "## 3. 데이터 전처리\n",
    "\n",
    "전처리 과정에서 다음과 같은 처리를 할 수 있습니다.\n",
    "\n",
    "- 결측치 처리\n",
    "- 값 변경\n",
    "- 열 추가\n",
    "- 불필요한 열 제거\n",
    "- 열 이름 변경\n",
    "- 데이터 통합(연결 또는 조인)\n",
    "- 가변수화 등"
   ]
  },
  {
   "cell_type": "markdown",
   "metadata": {
    "id": "RVYiMiblt05b"
   },
   "source": [
    "**1) 데이터 통합**\n",
    "\n",
    "- concat을 사용해 연결하면 인덱스 값을 기준으로 연결되어 데이터가 어긋납니다.\n",
    "- **year** 열을 기준으로 **outer** 방식으로 조인(병합)합니다.\n",
    "- 외국인 정보가 1981 ~ 1984년이 누락되어 결측치가 발생할 것입니다.\n",
    "- 세 개의 데이터프레임을 병합(조인)하여 pop 데이터프레임을 선언합니다.\n",
    "- 이후의 모든 작업은 pop 데이터프레임을 대상으로 진행합니다."
   ]
  },
  {
   "cell_type": "code",
   "execution_count": 13,
   "metadata": {
    "id": "oQVSJrJishiQ",
    "scrolled": true
   },
   "outputs": [],
   "source": [
    "pop = pd.merge(pop01, pop02, how=\"outer\", on='year')"
   ]
  },
  {
   "cell_type": "code",
   "execution_count": 14,
   "metadata": {},
   "outputs": [],
   "source": [
    "pop = pd.merge(pop, pop03, how = \"outer\", on = 'year')"
   ]
  },
  {
   "cell_type": "code",
   "execution_count": 15,
   "metadata": {},
   "outputs": [
    {
     "data": {
      "text/html": [
       "<div>\n",
       "<style scoped>\n",
       "    .dataframe tbody tr th:only-of-type {\n",
       "        vertical-align: middle;\n",
       "    }\n",
       "\n",
       "    .dataframe tbody tr th {\n",
       "        vertical-align: top;\n",
       "    }\n",
       "\n",
       "    .dataframe thead th {\n",
       "        text-align: right;\n",
       "    }\n",
       "</style>\n",
       "<table border=\"1\" class=\"dataframe\">\n",
       "  <thead>\n",
       "    <tr style=\"text-align: right;\">\n",
       "      <th></th>\n",
       "      <th>year</th>\n",
       "      <th>k_male</th>\n",
       "      <th>k_female</th>\n",
       "      <th>f_male</th>\n",
       "      <th>f_female</th>\n",
       "      <th>household</th>\n",
       "      <th>older_65</th>\n",
       "    </tr>\n",
       "  </thead>\n",
       "  <tbody>\n",
       "    <tr>\n",
       "      <th>0</th>\n",
       "      <td>1981</td>\n",
       "      <td>4160</td>\n",
       "      <td>4191</td>\n",
       "      <td>NaN</td>\n",
       "      <td>NaN</td>\n",
       "      <td>1915</td>\n",
       "      <td>246</td>\n",
       "    </tr>\n",
       "    <tr>\n",
       "      <th>1</th>\n",
       "      <td>1982</td>\n",
       "      <td>4160</td>\n",
       "      <td>4191</td>\n",
       "      <td>NaN</td>\n",
       "      <td>NaN</td>\n",
       "      <td>2001</td>\n",
       "      <td>260</td>\n",
       "    </tr>\n",
       "    <tr>\n",
       "      <th>2</th>\n",
       "      <td>1983</td>\n",
       "      <td>4160</td>\n",
       "      <td>4191</td>\n",
       "      <td>NaN</td>\n",
       "      <td>NaN</td>\n",
       "      <td>2116</td>\n",
       "      <td>260</td>\n",
       "    </tr>\n",
       "    <tr>\n",
       "      <th>3</th>\n",
       "      <td>1984</td>\n",
       "      <td>4160</td>\n",
       "      <td>4191</td>\n",
       "      <td>NaN</td>\n",
       "      <td>NaN</td>\n",
       "      <td>2246</td>\n",
       "      <td>275</td>\n",
       "    </tr>\n",
       "    <tr>\n",
       "      <th>4</th>\n",
       "      <td>1985</td>\n",
       "      <td>4160</td>\n",
       "      <td>4191</td>\n",
       "      <td>7.0</td>\n",
       "      <td>6.0</td>\n",
       "      <td>2338</td>\n",
       "      <td>211</td>\n",
       "    </tr>\n",
       "  </tbody>\n",
       "</table>\n",
       "</div>"
      ],
      "text/plain": [
       "   year  k_male  k_female  f_male  f_female  household  older_65\n",
       "0  1981    4160      4191     NaN       NaN       1915       246\n",
       "1  1982    4160      4191     NaN       NaN       2001       260\n",
       "2  1983    4160      4191     NaN       NaN       2116       260\n",
       "3  1984    4160      4191     NaN       NaN       2246       275\n",
       "4  1985    4160      4191     7.0       6.0       2338       211"
      ]
     },
     "execution_count": 15,
     "metadata": {},
     "output_type": "execute_result"
    }
   ],
   "source": [
    "pop.head()"
   ]
  },
  {
   "cell_type": "code",
   "execution_count": 16,
   "metadata": {},
   "outputs": [
    {
     "data": {
      "text/html": [
       "<div>\n",
       "<style scoped>\n",
       "    .dataframe tbody tr th:only-of-type {\n",
       "        vertical-align: middle;\n",
       "    }\n",
       "\n",
       "    .dataframe tbody tr th {\n",
       "        vertical-align: top;\n",
       "    }\n",
       "\n",
       "    .dataframe thead th {\n",
       "        text-align: right;\n",
       "    }\n",
       "</style>\n",
       "<table border=\"1\" class=\"dataframe\">\n",
       "  <thead>\n",
       "    <tr style=\"text-align: right;\">\n",
       "      <th></th>\n",
       "      <th>year</th>\n",
       "      <th>k_male</th>\n",
       "      <th>k_female</th>\n",
       "      <th>f_male</th>\n",
       "      <th>f_female</th>\n",
       "      <th>household</th>\n",
       "      <th>older_65</th>\n",
       "    </tr>\n",
       "  </thead>\n",
       "  <tbody>\n",
       "    <tr>\n",
       "      <th>0</th>\n",
       "      <td>1981</td>\n",
       "      <td>4160</td>\n",
       "      <td>4191</td>\n",
       "      <td>NaN</td>\n",
       "      <td>NaN</td>\n",
       "      <td>1915</td>\n",
       "      <td>246</td>\n",
       "    </tr>\n",
       "    <tr>\n",
       "      <th>1</th>\n",
       "      <td>1982</td>\n",
       "      <td>4160</td>\n",
       "      <td>4191</td>\n",
       "      <td>NaN</td>\n",
       "      <td>NaN</td>\n",
       "      <td>2001</td>\n",
       "      <td>260</td>\n",
       "    </tr>\n",
       "    <tr>\n",
       "      <th>2</th>\n",
       "      <td>1983</td>\n",
       "      <td>4160</td>\n",
       "      <td>4191</td>\n",
       "      <td>NaN</td>\n",
       "      <td>NaN</td>\n",
       "      <td>2116</td>\n",
       "      <td>260</td>\n",
       "    </tr>\n",
       "    <tr>\n",
       "      <th>3</th>\n",
       "      <td>1984</td>\n",
       "      <td>4160</td>\n",
       "      <td>4191</td>\n",
       "      <td>NaN</td>\n",
       "      <td>NaN</td>\n",
       "      <td>2246</td>\n",
       "      <td>275</td>\n",
       "    </tr>\n",
       "    <tr>\n",
       "      <th>4</th>\n",
       "      <td>1985</td>\n",
       "      <td>4160</td>\n",
       "      <td>4191</td>\n",
       "      <td>7.0</td>\n",
       "      <td>6.0</td>\n",
       "      <td>2338</td>\n",
       "      <td>211</td>\n",
       "    </tr>\n",
       "  </tbody>\n",
       "</table>\n",
       "</div>"
      ],
      "text/plain": [
       "   year  k_male  k_female  f_male  f_female  household  older_65\n",
       "0  1981    4160      4191     NaN       NaN       1915       246\n",
       "1  1982    4160      4191     NaN       NaN       2001       260\n",
       "2  1983    4160      4191     NaN       NaN       2116       260\n",
       "3  1984    4160      4191     NaN       NaN       2246       275\n",
       "4  1985    4160      4191     7.0       6.0       2338       211"
      ]
     },
     "execution_count": 16,
     "metadata": {},
     "output_type": "execute_result"
    }
   ],
   "source": [
    "# reduce 함수\n",
    "# 어떤 함수를 누적해서 사용할 때 사용\n",
    "from functools import reduce\n",
    "\n",
    "data_list = [pop01, pop02, pop03]\n",
    "pop = reduce(lambda x, y : pd.merge(x,y,on ='year', how = \"outer\"), data_list)\n",
    "pop.head()"
   ]
  },
  {
   "cell_type": "markdown",
   "metadata": {
    "id": "hdjxpxxFzxCT"
   },
   "source": [
    "**2) 결측치 확인**\n",
    "\n",
    "- 결측치가 있는지 확인합니다."
   ]
  },
  {
   "cell_type": "code",
   "execution_count": 17,
   "metadata": {
    "id": "NyjTg23zz5XS"
   },
   "outputs": [
    {
     "data": {
      "text/plain": [
       "year         0\n",
       "k_male       0\n",
       "k_female     0\n",
       "f_male       4\n",
       "f_female     4\n",
       "household    0\n",
       "older_65     0\n",
       "dtype: int64"
      ]
     },
     "execution_count": 17,
     "metadata": {},
     "output_type": "execute_result"
    }
   ],
   "source": [
    "pop.isna().sum()"
   ]
  },
  {
   "cell_type": "markdown",
   "metadata": {
    "id": "E6MZV3nW0QUv"
   },
   "source": [
    "**3) 결측치 처리**\n",
    "\n",
    "- 연도별 인구 현황이므로 임의의 값을 채우는 것이 바람직하지 않아 보입니다.\n",
    "- 이후 값, 즉 1985년 값으로 채우는 것도 정확한 분석을 방해할 것 같습니다.\n",
    "- 이에 결측치가 있는 1981년~1984년 행을 제거할 것입니다."
   ]
  },
  {
   "cell_type": "code",
   "execution_count": 18,
   "metadata": {
    "id": "TZ38gSP31CYM"
   },
   "outputs": [],
   "source": [
    "pop.dropna(axis=0, inplace=True)"
   ]
  },
  {
   "cell_type": "markdown",
   "metadata": {
    "id": "WAGgvzDv2klV"
   },
   "source": [
    "**3) 열 추가**\n",
    "\n",
    "- 이후 분석의 편의를 위해 다음과 같은 의미를 갖는 열을 추가하고자 합니다.\n",
    "    - k_total = 전체 한국인 인구수\n",
    "    - f_total = 전체 외국인 인구수\n",
    "    - male = 전체 남자 인구수\n",
    "    - female = 전체 여자 인구수\n",
    "    - total = 전체 인구수\n",
    "- 추가할 열에 대한 공식은 다음과 같습니다.\n",
    "    - k_total = k_male + k_female\n",
    "    - f_total = f_male + f_female\n",
    "    - male = k_male + f_male\n",
    "    - female = k_female + f_female\n",
    "    - total = k_total + f_total\n",
    "- 정리한 공식에 따라 데이터프레임에 열을 추가합니다."
   ]
  },
  {
   "cell_type": "code",
   "execution_count": 19,
   "metadata": {
    "id": "_2UJfoL4Deyq"
   },
   "outputs": [],
   "source": [
    "pop['k_total'] = pop['k_male'] + pop['k_female']\n",
    "pop['f_total'] = pop['f_male'] + pop['f_female']\n",
    "pop['male'] = pop['k_male'] + pop['f_male']\n",
    "pop['female'] = pop['k_female'] + pop['f_female']\n",
    "pop['total'] = pop['k_total'] + pop['f_total']"
   ]
  },
  {
   "cell_type": "code",
   "execution_count": 20,
   "metadata": {},
   "outputs": [
    {
     "data": {
      "text/html": [
       "<div>\n",
       "<style scoped>\n",
       "    .dataframe tbody tr th:only-of-type {\n",
       "        vertical-align: middle;\n",
       "    }\n",
       "\n",
       "    .dataframe tbody tr th {\n",
       "        vertical-align: top;\n",
       "    }\n",
       "\n",
       "    .dataframe thead th {\n",
       "        text-align: right;\n",
       "    }\n",
       "</style>\n",
       "<table border=\"1\" class=\"dataframe\">\n",
       "  <thead>\n",
       "    <tr style=\"text-align: right;\">\n",
       "      <th></th>\n",
       "      <th>year</th>\n",
       "      <th>k_male</th>\n",
       "      <th>k_female</th>\n",
       "      <th>f_male</th>\n",
       "      <th>f_female</th>\n",
       "      <th>household</th>\n",
       "      <th>older_65</th>\n",
       "      <th>k_total</th>\n",
       "      <th>f_total</th>\n",
       "      <th>male</th>\n",
       "      <th>female</th>\n",
       "      <th>total</th>\n",
       "    </tr>\n",
       "  </thead>\n",
       "  <tbody>\n",
       "    <tr>\n",
       "      <th>4</th>\n",
       "      <td>1985</td>\n",
       "      <td>4160</td>\n",
       "      <td>4191</td>\n",
       "      <td>7.0</td>\n",
       "      <td>6.0</td>\n",
       "      <td>2338</td>\n",
       "      <td>211</td>\n",
       "      <td>8351</td>\n",
       "      <td>13.0</td>\n",
       "      <td>4167.0</td>\n",
       "      <td>4197.0</td>\n",
       "      <td>8364.0</td>\n",
       "    </tr>\n",
       "    <tr>\n",
       "      <th>5</th>\n",
       "      <td>1986</td>\n",
       "      <td>4899</td>\n",
       "      <td>4888</td>\n",
       "      <td>7.0</td>\n",
       "      <td>5.0</td>\n",
       "      <td>2428</td>\n",
       "      <td>305</td>\n",
       "      <td>9787</td>\n",
       "      <td>12.0</td>\n",
       "      <td>4906.0</td>\n",
       "      <td>4893.0</td>\n",
       "      <td>9799.0</td>\n",
       "    </tr>\n",
       "    <tr>\n",
       "      <th>6</th>\n",
       "      <td>1987</td>\n",
       "      <td>5000</td>\n",
       "      <td>4979</td>\n",
       "      <td>6.0</td>\n",
       "      <td>5.0</td>\n",
       "      <td>2518</td>\n",
       "      <td>329</td>\n",
       "      <td>9979</td>\n",
       "      <td>11.0</td>\n",
       "      <td>5006.0</td>\n",
       "      <td>4984.0</td>\n",
       "      <td>9990.0</td>\n",
       "    </tr>\n",
       "    <tr>\n",
       "      <th>7</th>\n",
       "      <td>1988</td>\n",
       "      <td>5156</td>\n",
       "      <td>5120</td>\n",
       "      <td>5.0</td>\n",
       "      <td>5.0</td>\n",
       "      <td>2658</td>\n",
       "      <td>349</td>\n",
       "      <td>10276</td>\n",
       "      <td>10.0</td>\n",
       "      <td>5161.0</td>\n",
       "      <td>5125.0</td>\n",
       "      <td>10286.0</td>\n",
       "    </tr>\n",
       "    <tr>\n",
       "      <th>8</th>\n",
       "      <td>1989</td>\n",
       "      <td>5305</td>\n",
       "      <td>5261</td>\n",
       "      <td>6.0</td>\n",
       "      <td>5.0</td>\n",
       "      <td>2817</td>\n",
       "      <td>363</td>\n",
       "      <td>10566</td>\n",
       "      <td>11.0</td>\n",
       "      <td>5311.0</td>\n",
       "      <td>5266.0</td>\n",
       "      <td>10577.0</td>\n",
       "    </tr>\n",
       "  </tbody>\n",
       "</table>\n",
       "</div>"
      ],
      "text/plain": [
       "   year  k_male  k_female  f_male  f_female  household  older_65  k_total  \\\n",
       "4  1985    4160      4191     7.0       6.0       2338       211     8351   \n",
       "5  1986    4899      4888     7.0       5.0       2428       305     9787   \n",
       "6  1987    5000      4979     6.0       5.0       2518       329     9979   \n",
       "7  1988    5156      5120     5.0       5.0       2658       349    10276   \n",
       "8  1989    5305      5261     6.0       5.0       2817       363    10566   \n",
       "\n",
       "   f_total    male  female    total  \n",
       "4     13.0  4167.0  4197.0   8364.0  \n",
       "5     12.0  4906.0  4893.0   9799.0  \n",
       "6     11.0  5006.0  4984.0   9990.0  \n",
       "7     10.0  5161.0  5125.0  10286.0  \n",
       "8     11.0  5311.0  5266.0  10577.0  "
      ]
     },
     "execution_count": 20,
     "metadata": {},
     "output_type": "execute_result"
    }
   ],
   "source": [
    "pop.head()"
   ]
  },
  {
   "cell_type": "markdown",
   "metadata": {
    "id": "BUlYrjII22qA"
   },
   "source": [
    "**4) 열 순서 변경**\n",
    "\n",
    "- 데이터 이해를 돕기 위해 다음과 같은 순서로 데이터프레임 열 순서를 변경합니다.\n",
    "- year, household, total, male, female, k_total, k_male, k_female, f_total, f_male, f_female, older_65\n"
   ]
  },
  {
   "cell_type": "code",
   "execution_count": 21,
   "metadata": {
    "id": "w_e2NR6W3Sw0"
   },
   "outputs": [],
   "source": [
    "pop = pop[['year', 'household', 'total', 'male', 'female', 'k_total', 'k_male', 'k_female', 'f_total', 'f_male', 'f_female', 'older_65']]"
   ]
  },
  {
   "cell_type": "code",
   "execution_count": 22,
   "metadata": {},
   "outputs": [
    {
     "data": {
      "text/html": [
       "<div>\n",
       "<style scoped>\n",
       "    .dataframe tbody tr th:only-of-type {\n",
       "        vertical-align: middle;\n",
       "    }\n",
       "\n",
       "    .dataframe tbody tr th {\n",
       "        vertical-align: top;\n",
       "    }\n",
       "\n",
       "    .dataframe thead th {\n",
       "        text-align: right;\n",
       "    }\n",
       "</style>\n",
       "<table border=\"1\" class=\"dataframe\">\n",
       "  <thead>\n",
       "    <tr style=\"text-align: right;\">\n",
       "      <th></th>\n",
       "      <th>year</th>\n",
       "      <th>household</th>\n",
       "      <th>total</th>\n",
       "      <th>male</th>\n",
       "      <th>female</th>\n",
       "      <th>k_total</th>\n",
       "      <th>k_male</th>\n",
       "      <th>k_female</th>\n",
       "      <th>f_total</th>\n",
       "      <th>f_male</th>\n",
       "      <th>f_female</th>\n",
       "      <th>older_65</th>\n",
       "    </tr>\n",
       "  </thead>\n",
       "  <tbody>\n",
       "    <tr>\n",
       "      <th>4</th>\n",
       "      <td>1985</td>\n",
       "      <td>2338</td>\n",
       "      <td>8364.0</td>\n",
       "      <td>4167.0</td>\n",
       "      <td>4197.0</td>\n",
       "      <td>8351</td>\n",
       "      <td>4160</td>\n",
       "      <td>4191</td>\n",
       "      <td>13.0</td>\n",
       "      <td>7.0</td>\n",
       "      <td>6.0</td>\n",
       "      <td>211</td>\n",
       "    </tr>\n",
       "    <tr>\n",
       "      <th>5</th>\n",
       "      <td>1986</td>\n",
       "      <td>2428</td>\n",
       "      <td>9799.0</td>\n",
       "      <td>4906.0</td>\n",
       "      <td>4893.0</td>\n",
       "      <td>9787</td>\n",
       "      <td>4899</td>\n",
       "      <td>4888</td>\n",
       "      <td>12.0</td>\n",
       "      <td>7.0</td>\n",
       "      <td>5.0</td>\n",
       "      <td>305</td>\n",
       "    </tr>\n",
       "    <tr>\n",
       "      <th>6</th>\n",
       "      <td>1987</td>\n",
       "      <td>2518</td>\n",
       "      <td>9990.0</td>\n",
       "      <td>5006.0</td>\n",
       "      <td>4984.0</td>\n",
       "      <td>9979</td>\n",
       "      <td>5000</td>\n",
       "      <td>4979</td>\n",
       "      <td>11.0</td>\n",
       "      <td>6.0</td>\n",
       "      <td>5.0</td>\n",
       "      <td>329</td>\n",
       "    </tr>\n",
       "    <tr>\n",
       "      <th>7</th>\n",
       "      <td>1988</td>\n",
       "      <td>2658</td>\n",
       "      <td>10286.0</td>\n",
       "      <td>5161.0</td>\n",
       "      <td>5125.0</td>\n",
       "      <td>10276</td>\n",
       "      <td>5156</td>\n",
       "      <td>5120</td>\n",
       "      <td>10.0</td>\n",
       "      <td>5.0</td>\n",
       "      <td>5.0</td>\n",
       "      <td>349</td>\n",
       "    </tr>\n",
       "    <tr>\n",
       "      <th>8</th>\n",
       "      <td>1989</td>\n",
       "      <td>2817</td>\n",
       "      <td>10577.0</td>\n",
       "      <td>5311.0</td>\n",
       "      <td>5266.0</td>\n",
       "      <td>10566</td>\n",
       "      <td>5305</td>\n",
       "      <td>5261</td>\n",
       "      <td>11.0</td>\n",
       "      <td>6.0</td>\n",
       "      <td>5.0</td>\n",
       "      <td>363</td>\n",
       "    </tr>\n",
       "  </tbody>\n",
       "</table>\n",
       "</div>"
      ],
      "text/plain": [
       "   year  household    total    male  female  k_total  k_male  k_female  \\\n",
       "4  1985       2338   8364.0  4167.0  4197.0     8351    4160      4191   \n",
       "5  1986       2428   9799.0  4906.0  4893.0     9787    4899      4888   \n",
       "6  1987       2518   9990.0  5006.0  4984.0     9979    5000      4979   \n",
       "7  1988       2658  10286.0  5161.0  5125.0    10276    5156      5120   \n",
       "8  1989       2817  10577.0  5311.0  5266.0    10566    5305      5261   \n",
       "\n",
       "   f_total  f_male  f_female  older_65  \n",
       "4     13.0     7.0       6.0       211  \n",
       "5     12.0     7.0       5.0       305  \n",
       "6     11.0     6.0       5.0       329  \n",
       "7     10.0     5.0       5.0       349  \n",
       "8     11.0     6.0       5.0       363  "
      ]
     },
     "execution_count": 22,
     "metadata": {},
     "output_type": "execute_result"
    }
   ],
   "source": [
    "pop.head()"
   ]
  },
  {
   "cell_type": "markdown",
   "metadata": {
    "id": "YqROKu_R3t03"
   },
   "source": [
    "**5) 인덱스 초기화**\n",
    "\n",
    "- 인덱스가 0부터 시작하는 일련 변호를 갖지 않는다면 인덱스를 초기화합니다."
   ]
  },
  {
   "cell_type": "code",
   "execution_count": 23,
   "metadata": {
    "id": "E6hQeKB533r9"
   },
   "outputs": [],
   "source": [
    "pop.reset_index(inplace=True, drop=True)"
   ]
  },
  {
   "cell_type": "markdown",
   "metadata": {
    "id": "gVFIrpZmrsjq"
   },
   "source": [
    "## 4. 추가 전처리"
   ]
  },
  {
   "cell_type": "markdown",
   "metadata": {
    "id": "kdnCJKxP-GiC"
   },
   "source": [
    "* x, y 구분\n",
    "\n",
    "    - x : feature\n",
    "    - y : target <- total"
   ]
  },
  {
   "cell_type": "code",
   "execution_count": 24,
   "metadata": {
    "id": "eg2YEK6-8k9c"
   },
   "outputs": [],
   "source": [
    "x = pop.drop(\"total\", axis=1)"
   ]
  },
  {
   "cell_type": "code",
   "execution_count": 25,
   "metadata": {},
   "outputs": [],
   "source": [
    "y = pop[['total']]"
   ]
  },
  {
   "cell_type": "markdown",
   "metadata": {
    "id": "w6LVMNBb-EYK"
   },
   "source": [
    "* train test split"
   ]
  },
  {
   "cell_type": "code",
   "execution_count": 26,
   "metadata": {
    "id": "ldUH83Zh9gdE"
   },
   "outputs": [],
   "source": [
    "from sklearn.model_selection import train_test_split"
   ]
  },
  {
   "cell_type": "code",
   "execution_count": 27,
   "metadata": {
    "id": "ePTa2bih9JRU"
   },
   "outputs": [],
   "source": [
    "train_x, test_x, train_y, test_y = train_test_split(x, y, test_size=0.3, random_state=1)"
   ]
  },
  {
   "cell_type": "code",
   "execution_count": 28,
   "metadata": {
    "id": "CuSR6VJ89X4J"
   },
   "outputs": [
    {
     "data": {
      "text/plain": [
       "((25, 11), (25, 1))"
      ]
     },
     "execution_count": 28,
     "metadata": {},
     "output_type": "execute_result"
    }
   ],
   "source": [
    "train_x.shape, train_y.shape"
   ]
  },
  {
   "cell_type": "markdown",
   "metadata": {
    "id": "Q898Fe_Y9b4B"
   },
   "source": [
    "* Scaling\n",
    "\n",
    "    - min-max scaling"
   ]
  },
  {
   "cell_type": "code",
   "execution_count": 29,
   "metadata": {
    "id": "Z6xdipwP9ZTq"
   },
   "outputs": [],
   "source": [
    "from sklearn.preprocessing import MinMaxScaler"
   ]
  },
  {
   "cell_type": "code",
   "execution_count": 30,
   "metadata": {
    "id": "NBXz7AVZ9npr"
   },
   "outputs": [],
   "source": [
    "# 사용할 함수 선언\n",
    "scaler = MinMaxScaler()"
   ]
  },
  {
   "cell_type": "code",
   "execution_count": 31,
   "metadata": {
    "id": "0MsrmONV96Cd"
   },
   "outputs": [],
   "source": [
    "# 변환시키기\n",
    "train_x = scaler.fit_transform(train_x)\n",
    "test_x = scaler.fit_transform(test_x)"
   ]
  },
  {
   "cell_type": "code",
   "execution_count": 32,
   "metadata": {
    "id": "jaAGAJ9S97uK"
   },
   "outputs": [
    {
     "data": {
      "text/plain": [
       "array([[0.94285714, 0.92596154, 0.55029586, 0.75119617, 0.54760062,\n",
       "        0.45820896, 0.64389068, 1.        , 1.        , 1.        ,\n",
       "        0.88798821],\n",
       "       [0.68571429, 0.85528846, 0.75      , 0.86602871, 0.71865325,\n",
       "        0.67089552, 0.77009646, 0.89818182, 0.88636364, 0.90909091,\n",
       "        0.5394252 ],\n",
       "       [0.71428571, 0.90673077, 0.79068047, 0.90988836, 0.75890093,\n",
       "        0.70970149, 0.81189711, 0.92      , 0.90909091, 0.93006993,\n",
       "        0.58732498],\n",
       "       [0.11428571, 0.23028846, 0.84615385, 0.85247209, 0.85719814,\n",
       "        0.85447761, 0.86012862, 0.00727273, 0.00757576, 0.00699301,\n",
       "        0.11201179],\n",
       "       [0.05714286, 0.08653846, 0.62056213, 0.62759171, 0.63003096,\n",
       "        0.62686567, 0.63344051, 0.00727273, 0.00757576, 0.00699301,\n",
       "        0.08695652],\n",
       "       [0.4       , 0.55432692, 0.74260355, 0.76076555, 0.74032508,\n",
       "        0.73208955, 0.74919614, 0.17818182, 0.18939394, 0.16783217,\n",
       "        0.23507738],\n",
       "       [0.28571429, 0.53365385, 0.85724852, 0.85566188, 0.85139319,\n",
       "        0.85223881, 0.85048232, 0.13090909, 0.14393939, 0.11888112,\n",
       "        0.183493  ],\n",
       "       [0.91428571, 0.90480769, 0.58505917, 0.77352472, 0.58281734,\n",
       "        0.5       , 0.67202572, 0.94181818, 0.93181818, 0.95104895,\n",
       "        0.85040531],\n",
       "       [0.62857143, 0.82115385, 0.74482249, 0.83811802, 0.7128483 ,\n",
       "        0.6738806 , 0.75482315, 0.8       , 0.8030303 , 0.7972028 ,\n",
       "        0.47236551],\n",
       "       [0.88571429, 0.89038462, 0.62204142, 0.79744817, 0.61145511,\n",
       "        0.53507463, 0.6937299 , 0.96363636, 0.95454545, 0.97202797,\n",
       "        0.80324245],\n",
       "       [0.57142857, 0.73701923, 0.70710059, 0.77830941, 0.70278638,\n",
       "        0.67313433, 0.73472669, 0.43636364, 0.42424242, 0.44755245,\n",
       "        0.38688283],\n",
       "       [0.51428571, 0.66201923, 0.71523669, 0.75438596, 0.70549536,\n",
       "        0.69029851, 0.72186495, 0.34181818, 0.33333333, 0.34965035,\n",
       "        0.32350774],\n",
       "       [0.17142857, 0.47692308, 0.97559172, 0.97448166, 0.97600619,\n",
       "        0.9761194 , 0.97588424, 0.08363636, 0.09848485, 0.06993007,\n",
       "        0.15696389],\n",
       "       [0.37142857, 0.53894231, 0.74482249, 0.75837321, 0.74303406,\n",
       "        0.73656716, 0.75      , 0.15272727, 0.16666667, 0.13986014,\n",
       "        0.21665438],\n",
       "       [0.2       , 0.50240385, 1.        , 1.        , 1.        ,\n",
       "        1.        , 1.        , 0.09454545, 0.10606061, 0.08391608,\n",
       "        0.16433309],\n",
       "       [1.        , 1.        , 0.48076923, 0.71610845, 0.51006192,\n",
       "        0.40447761, 0.62379421, 0.85090909, 0.83333333, 0.86713287,\n",
       "        1.        ],\n",
       "       [0.02857143, 0.04326923, 0.54659763, 0.55502392, 0.55572755,\n",
       "        0.55149254, 0.56028939, 0.01090909, 0.01515152, 0.00699301,\n",
       "        0.06927045],\n",
       "       [0.45714286, 0.59230769, 0.74630178, 0.76475279, 0.74032508,\n",
       "        0.73283582, 0.74839228, 0.21454545, 0.21969697, 0.20979021,\n",
       "        0.27634488],\n",
       "       [0.        , 0.        , 0.        , 0.        , 0.        ,\n",
       "        0.        , 0.        , 0.01454545, 0.01515152, 0.01398601,\n",
       "        0.        ],\n",
       "       [0.42857143, 0.57788462, 0.76331361, 0.77990431, 0.75890093,\n",
       "        0.75149254, 0.76688103, 0.19272727, 0.20454545, 0.18181818,\n",
       "        0.25718497],\n",
       "       [0.14285714, 0.23173077, 0.85724852, 0.86842105, 0.87151703,\n",
       "        0.86641791, 0.87700965, 0.        , 0.        , 0.        ,\n",
       "        0.11201179],\n",
       "       [0.31428571, 0.53798077, 0.80695266, 0.80940989, 0.7999226 ,\n",
       "        0.79925373, 0.80064309, 0.15636364, 0.16666667, 0.14685315,\n",
       "        0.19012528],\n",
       "       [0.25714286, 0.5375    , 0.9341716 , 0.9354067 , 0.93227554,\n",
       "        0.93208955, 0.93247588, 0.11272727, 0.12121212, 0.1048951 ,\n",
       "        0.17907148],\n",
       "       [0.22857143, 0.52548077, 0.98372781, 0.98245614, 0.98258514,\n",
       "        0.98358209, 0.98151125, 0.09818182, 0.10606061, 0.09090909,\n",
       "        0.1724392 ],\n",
       "       [0.34285714, 0.55817308, 0.77514793, 0.77990431, 0.76857585,\n",
       "        0.76641791, 0.77090032, 0.16      , 0.17424242, 0.14685315,\n",
       "        0.20191599]])"
      ]
     },
     "execution_count": 32,
     "metadata": {},
     "output_type": "execute_result"
    }
   ],
   "source": [
    "train_x"
   ]
  },
  {
   "cell_type": "code",
   "execution_count": 33,
   "metadata": {
    "id": "3kG4eVvD_NJi"
   },
   "outputs": [
    {
     "data": {
      "text/plain": [
       "array([[0.87096774, 0.91736527, 0.56193353, 0.55102041, 0.53564899,\n",
       "        0.4538835 , 0.55497382, 0.97426471, 0.98461538, 0.95804196,\n",
       "        0.80897887],\n",
       "       [1.        , 1.        , 0.        , 0.04081633, 0.        ,\n",
       "        0.        , 0.        , 1.        , 0.99230769, 1.        ,\n",
       "        1.        ],\n",
       "       [0.80645161, 0.91257485, 0.74924471, 0.69897959, 0.75868373,\n",
       "        0.6407767 , 0.79057592, 0.86029412, 0.86923077, 0.84615385,\n",
       "        0.72007042],\n",
       "       [0.        , 0.        , 0.85498489, 0.        , 1.        ,\n",
       "        1.        , 0.70680628, 0.        , 0.        , 0.        ,\n",
       "        0.        ],\n",
       "       [0.51612903, 0.67185629, 0.75830816, 0.17346939, 0.81170018,\n",
       "        0.80339806, 0.59162304, 0.38602941, 0.37692308, 0.39160839,\n",
       "        0.3028169 ],\n",
       "       [0.4516129 , 0.57844311, 0.80664653, 0.05102041, 0.8738574 ,\n",
       "        0.88592233, 0.59162304, 0.23161765, 0.23846154, 0.22377622,\n",
       "        0.23239437],\n",
       "       [0.58064516, 0.79101796, 0.80664653, 0.43877551, 0.82632541,\n",
       "        0.77184466, 0.70157068, 0.60661765, 0.6       , 0.60839161,\n",
       "        0.38556338],\n",
       "       [0.64516129, 0.86227545, 0.92749245, 0.74489796, 0.86288848,\n",
       "        0.77184466, 0.80628272, 0.90073529, 0.90769231, 0.88811189,\n",
       "        0.48415493],\n",
       "       [0.83870968, 0.91976048, 0.6978852 , 0.68877551, 0.68372943,\n",
       "        0.57281553, 0.72251309, 0.94117647, 0.95384615, 0.92307692,\n",
       "        0.76848592],\n",
       "       [0.74193548, 0.91916168, 1.        , 1.        , 0.95246801,\n",
       "        0.80097087, 1.        , 0.99264706, 1.        , 0.97902098,\n",
       "        0.61619718],\n",
       "       [0.77419355, 0.91017964, 0.8489426 , 0.80612245, 0.85191956,\n",
       "        0.72087379, 0.88481675, 0.87132353, 0.86923077, 0.86713287,\n",
       "        0.67077465]])"
      ]
     },
     "execution_count": 33,
     "metadata": {},
     "output_type": "execute_result"
    }
   ],
   "source": [
    "test_x"
   ]
  },
  {
   "cell_type": "markdown",
   "metadata": {
    "id": "RunXx5ob-L9j"
   },
   "source": [
    "## 5. 모델링"
   ]
  },
  {
   "cell_type": "markdown",
   "metadata": {
    "id": "KpBgwLU5-b7m"
   },
   "source": [
    "* 모델 선언"
   ]
  },
  {
   "cell_type": "code",
   "execution_count": 34,
   "metadata": {
    "id": "xJivOe31-DMG"
   },
   "outputs": [],
   "source": [
    "# Linear Regression\n",
    "from sklearn.linear_model import LinearRegression        # Linear Model"
   ]
  },
  {
   "cell_type": "code",
   "execution_count": 35,
   "metadata": {
    "id": "A1a9ZTWi-Tah"
   },
   "outputs": [],
   "source": [
    "# 모델 선언\n",
    "model = LinearRegression()"
   ]
  },
  {
   "cell_type": "markdown",
   "metadata": {
    "id": "ByOJ40rx-aBU"
   },
   "source": [
    "* 모델 학습"
   ]
  },
  {
   "cell_type": "code",
   "execution_count": 36,
   "metadata": {
    "id": "7BZYUjNt-WRT"
   },
   "outputs": [
    {
     "data": {
      "text/plain": [
       "LinearRegression()"
      ]
     },
     "execution_count": 36,
     "metadata": {},
     "output_type": "execute_result"
    }
   ],
   "source": [
    "model.fit( train_x , train_y )"
   ]
  },
  {
   "cell_type": "markdown",
   "metadata": {
    "id": "NaGKHZJS-ktc"
   },
   "source": [
    "* 학습한 모델 기반으로 예측값 생성"
   ]
  },
  {
   "cell_type": "code",
   "execution_count": 37,
   "metadata": {
    "id": "AtqR6q1u-pYA"
   },
   "outputs": [],
   "source": [
    "# 예측값을 뽑자.\n",
    "test_pred = model.predict(test_x)"
   ]
  },
  {
   "cell_type": "markdown",
   "metadata": {
    "id": "_rDg0DGJ-2vp"
   },
   "source": [
    "## 6. 평가"
   ]
  },
  {
   "cell_type": "code",
   "execution_count": 38,
   "metadata": {
    "id": "7PmPZpse-2D2"
   },
   "outputs": [],
   "source": [
    "from sklearn.metrics import mean_squared_error         # Metric  MSE"
   ]
  },
  {
   "cell_type": "code",
   "execution_count": 39,
   "metadata": {
    "id": "jBiVt9Uv_WXG"
   },
   "outputs": [
    {
     "data": {
      "text/plain": [
       "688.3985339833923"
      ]
     },
     "execution_count": 39,
     "metadata": {},
     "output_type": "execute_result"
    }
   ],
   "source": [
    "mean_squared_error( test_y, test_pred, squared=False ) #RMSE"
   ]
  }
 ],
 "metadata": {
  "colab": {
   "collapsed_sections": [],
   "name": "추가_서울 인구 분석.ipynb",
   "provenance": []
  },
  "hide_input": false,
  "kernelspec": {
   "display_name": "Python 3",
   "language": "python",
   "name": "python3"
  },
  "language_info": {
   "codemirror_mode": {
    "name": "ipython",
    "version": 3
   },
   "file_extension": ".py",
   "mimetype": "text/x-python",
   "name": "python",
   "nbconvert_exporter": "python",
   "pygments_lexer": "ipython3",
   "version": "3.7.6"
  },
  "toc": {
   "base_numbering": 1,
   "nav_menu": {},
   "number_sections": true,
   "sideBar": true,
   "skip_h1_title": false,
   "title_cell": "Table of Contents",
   "title_sidebar": "Contents",
   "toc_cell": false,
   "toc_position": {},
   "toc_section_display": true,
   "toc_window_display": false
  },
  "varInspector": {
   "cols": {
    "lenName": 16,
    "lenType": 16,
    "lenVar": 40
   },
   "kernels_config": {
    "python": {
     "delete_cmd_postfix": "",
     "delete_cmd_prefix": "del ",
     "library": "var_list.py",
     "varRefreshCmd": "print(var_dic_list())"
    },
    "r": {
     "delete_cmd_postfix": ") ",
     "delete_cmd_prefix": "rm(",
     "library": "var_list.r",
     "varRefreshCmd": "cat(var_dic_list()) "
    }
   },
   "types_to_exclude": [
    "module",
    "function",
    "builtin_function_or_method",
    "instance",
    "_Feature"
   ],
   "window_display": false
  }
 },
 "nbformat": 4,
 "nbformat_minor": 1
}
