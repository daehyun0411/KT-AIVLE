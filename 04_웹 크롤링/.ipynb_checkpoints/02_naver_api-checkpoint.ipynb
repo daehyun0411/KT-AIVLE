{
 "cells": [
  {
   "cell_type": "markdown",
   "metadata": {},
   "source": [
    "# API\n",
    "- application programing interface\n",
    "- api를 사용해서 데이터를 수집하는것은 서비스에에 데이터를 제공하는 공식적인 방법으로 데이터 수집\n",
    "- **Naver Rest API**\n",
    "    - 파파고 번역 api\n",
    "        - `https://developers.naver.com/docs/papago/`\n",
    "        - 사용법\n",
    "            - `https://developers.naver.com/docs/papago/papago-nmt-api-reference.md`\n",
    "    - 통합검색어 트렌드 api\n",
    "        - 서비스 : `https://datalab.naver.com/keyword/trendSearch.naver`\n",
    "        - 내 애플리케이션 > dss 애플리케이션 > API 설정 > 데이터랩(검색어 트렌드) 추가\n",
    "        - 사용법 : `https://developers.naver.com/docs/serviceapi/datalab/search/search.md#통합-검색어-트렌드`"
   ]
  },
  {
   "cell_type": "code",
   "execution_count": 2,
   "metadata": {},
   "outputs": [],
   "source": [
    "import pandas as pd\n",
    "import requests, json"
   ]
  },
  {
   "cell_type": "markdown",
   "metadata": {},
   "source": [
    "##  APP 등록\n",
    "- `https://developers.naver.com`\n",
    "- 1. **request token 얻기** : 애플리케이션등록 -> app_key 획득\n",
    "- 2. app_key를 이용해서 데이터 가져오기"
   ]
  },
  {
   "cell_type": "code",
   "execution_count": 1,
   "metadata": {},
   "outputs": [],
   "source": [
    "CLIENT_ID, CLIENT_SECRET = \"np1gm1WpX_L07OPABByu\", \"JR4770ZoOB\""
   ]
  },
  {
   "cell_type": "markdown",
   "metadata": {},
   "source": [
    "## 파파고 번역 api"
   ]
  },
  {
   "cell_type": "markdown",
   "metadata": {},
   "source": [
    "### 1. Naver API Document 확인\n",
    "- url 확인"
   ]
  },
  {
   "cell_type": "code",
   "execution_count": 43,
   "metadata": {},
   "outputs": [],
   "source": [
    "txt = \"파이썬은 재미있습니다.\"\n",
    "url = \"https://openapi.naver.com/v1/papago/n2mt\"\n",
    "params = { \"source\": \"ko\", \"target\": \"en\", \"text\": txt }\n",
    "headers = {\n",
    "    \"Content-Type\": \"application/json\",\n",
    "    \"X-Naver-Client-Id\": CLIENT_ID,\n",
    "    \"X-Naver-Client-Secret\": CLIENT_SECRET,\n",
    "}"
   ]
  },
  {
   "cell_type": "markdown",
   "metadata": {},
   "source": [
    "### 2. request(url, params,headers ) > response(json): JSON(str)\n",
    "- json.dumps()\n",
    "    - 인터넷 트래픽에서는 영문, 숫자, 특수문자만 사용가능\n",
    "    - 한글과 같은 문자를 인코딩(영문,숫자, 특수문자) 변환하는 역할"
   ]
  },
  {
   "cell_type": "code",
   "execution_count": 44,
   "metadata": {},
   "outputs": [
    {
     "data": {
      "text/plain": [
       "<Response [200]>"
      ]
     },
     "execution_count": 44,
     "metadata": {},
     "output_type": "execute_result"
    }
   ],
   "source": [
    "response = requests.post(url, json.dumps(params), headers=headers)\n",
    "response"
   ]
  },
  {
   "cell_type": "markdown",
   "metadata": {},
   "source": [
    "### 3. JSON(str) > List, dict > DataFrame"
   ]
  },
  {
   "cell_type": "code",
   "execution_count": 45,
   "metadata": {},
   "outputs": [
    {
     "data": {
      "text/plain": [
       "'{\"message\":{\"result\":{\"srcLangType\":\"ko\",\"tarLangType\":\"en\",\"translatedText\":\"Python is fun.\",\"engineType\":\"N2MT\",\"pivot\":null,\"dict\":null,\"tarDict\":null},\"@type\":\"response\",\"@service\":\"naverservice.nmt.proxy\",\"@version\":\"1.0.0\"}}'"
      ]
     },
     "execution_count": 45,
     "metadata": {},
     "output_type": "execute_result"
    }
   ],
   "source": [
    "response.text"
   ]
  },
  {
   "cell_type": "code",
   "execution_count": 46,
   "metadata": {},
   "outputs": [
    {
     "data": {
      "text/plain": [
       "{'message': {'result': {'srcLangType': 'ko',\n",
       "   'tarLangType': 'en',\n",
       "   'translatedText': 'Python is fun.',\n",
       "   'engineType': 'N2MT',\n",
       "   'pivot': None,\n",
       "   'dict': None,\n",
       "   'tarDict': None},\n",
       "  '@type': 'response',\n",
       "  '@service': 'naverservice.nmt.proxy',\n",
       "  '@version': '1.0.0'}}"
      ]
     },
     "execution_count": 46,
     "metadata": {},
     "output_type": "execute_result"
    }
   ],
   "source": [
    "response.json()"
   ]
  },
  {
   "cell_type": "code",
   "execution_count": 47,
   "metadata": {},
   "outputs": [
    {
     "data": {
      "text/plain": [
       "'Python is fun.'"
      ]
     },
     "execution_count": 47,
     "metadata": {},
     "output_type": "execute_result"
    }
   ],
   "source": [
    "txt_en = response.json()[\"message\"][\"result\"][\"translatedText\"]\n",
    "txt_en"
   ]
  },
  {
   "cell_type": "markdown",
   "metadata": {},
   "source": [
    "### 4. 함수로 만들기"
   ]
  },
  {
   "cell_type": "code",
   "execution_count": 48,
   "metadata": {},
   "outputs": [],
   "source": [
    "def translate(txt):\n",
    "    CLIENT_ID, CLIENT_SECRET = \"np1gm1WpX_L07OPABByu\", \"JR4770ZoOB\"\n",
    "    url = \"https://openapi.naver.com/v1/papago/n2mt\"\n",
    "    params = { \"source\": \"ko\", \"target\": \"en\", \"text\": txt }\n",
    "    headers = {\n",
    "        \"Content-Type\": \"application/json\",\n",
    "        \"X-Naver-Client-Id\": CLIENT_ID,\n",
    "        \"X-Naver-Client-Secret\": CLIENT_SECRET,\n",
    "    }\n",
    "    response = requests.post(url, json.dumps(params), headers=headers)\n",
    "    return response.json()[\"message\"][\"result\"][\"translatedText\"]"
   ]
  },
  {
   "cell_type": "code",
   "execution_count": 49,
   "metadata": {},
   "outputs": [
    {
     "data": {
      "text/plain": [
       "'Data Analysis and Crawling'"
      ]
     },
     "execution_count": 49,
     "metadata": {},
     "output_type": "execute_result"
    }
   ],
   "source": [
    "txt = \"데이터 분석 및 크롤링\"\n",
    "translated_text = translate(txt)\n",
    "translated_text"
   ]
  },
  {
   "cell_type": "markdown",
   "metadata": {},
   "source": [
    "### 5. 한글 excel 파일을 영문 excel 파일로 변경"
   ]
  },
  {
   "cell_type": "code",
   "execution_count": 57,
   "metadata": {},
   "outputs": [],
   "source": [
    "#%ls"
   ]
  },
  {
   "cell_type": "code",
   "execution_count": 51,
   "metadata": {},
   "outputs": [
    {
     "data": {
      "text/html": [
       "<div>\n",
       "<style scoped>\n",
       "    .dataframe tbody tr th:only-of-type {\n",
       "        vertical-align: middle;\n",
       "    }\n",
       "\n",
       "    .dataframe tbody tr th {\n",
       "        vertical-align: top;\n",
       "    }\n",
       "\n",
       "    .dataframe thead th {\n",
       "        text-align: right;\n",
       "    }\n",
       "</style>\n",
       "<table border=\"1\" class=\"dataframe\">\n",
       "  <thead>\n",
       "    <tr style=\"text-align: right;\">\n",
       "      <th></th>\n",
       "      <th>category</th>\n",
       "      <th>title</th>\n",
       "    </tr>\n",
       "  </thead>\n",
       "  <tbody>\n",
       "    <tr>\n",
       "      <th>0</th>\n",
       "      <td>101</td>\n",
       "      <td>SK바이오사이언스, 코로나19 백신 임상 3상 시험계획 제출</td>\n",
       "    </tr>\n",
       "    <tr>\n",
       "      <th>1</th>\n",
       "      <td>102</td>\n",
       "      <td>고양시 노래연습장 코로나19 누적확진 41명</td>\n",
       "    </tr>\n",
       "    <tr>\n",
       "      <th>2</th>\n",
       "      <td>103</td>\n",
       "      <td>코로나19 신규 감염, 28일 오후 9시까지 542명</td>\n",
       "    </tr>\n",
       "    <tr>\n",
       "      <th>3</th>\n",
       "      <td>103</td>\n",
       "      <td>프로야구 수도권 구단서 코로나19 확진자 발생</td>\n",
       "    </tr>\n",
       "    <tr>\n",
       "      <th>4</th>\n",
       "      <td>104</td>\n",
       "      <td>\"코로나 확진자 '0명'인 날은 절대 오지 않는다\" 美전문가</td>\n",
       "    </tr>\n",
       "  </tbody>\n",
       "</table>\n",
       "</div>"
      ],
      "text/plain": [
       "   category                              title\n",
       "0       101  SK바이오사이언스, 코로나19 백신 임상 3상 시험계획 제출\n",
       "1       102           고양시 노래연습장 코로나19 누적확진 41명\n",
       "2       103      코로나19 신규 감염, 28일 오후 9시까지 542명\n",
       "3       103          프로야구 수도권 구단서 코로나19 확진자 발생\n",
       "4       104  \"코로나 확진자 '0명'인 날은 절대 오지 않는다\" 美전문가"
      ]
     },
     "execution_count": 51,
     "metadata": {},
     "output_type": "execute_result"
    }
   ],
   "source": [
    "covid = pd.read_excel(\"covid.xlsx\")[[\"category\", \"title\"]]\n",
    "covid.head()"
   ]
  },
  {
   "cell_type": "code",
   "execution_count": 52,
   "metadata": {},
   "outputs": [],
   "source": [
    "covid_en = covid['title'].apply(translate)"
   ]
  },
  {
   "cell_type": "code",
   "execution_count": 53,
   "metadata": {},
   "outputs": [],
   "source": [
    "covid['title_en'] = covid_en"
   ]
  },
  {
   "cell_type": "code",
   "execution_count": 56,
   "metadata": {},
   "outputs": [
    {
     "data": {
      "text/html": [
       "<div>\n",
       "<style scoped>\n",
       "    .dataframe tbody tr th:only-of-type {\n",
       "        vertical-align: middle;\n",
       "    }\n",
       "\n",
       "    .dataframe tbody tr th {\n",
       "        vertical-align: top;\n",
       "    }\n",
       "\n",
       "    .dataframe thead th {\n",
       "        text-align: right;\n",
       "    }\n",
       "</style>\n",
       "<table border=\"1\" class=\"dataframe\">\n",
       "  <thead>\n",
       "    <tr style=\"text-align: right;\">\n",
       "      <th></th>\n",
       "      <th>category</th>\n",
       "      <th>title</th>\n",
       "      <th>title_en</th>\n",
       "    </tr>\n",
       "  </thead>\n",
       "  <tbody>\n",
       "    <tr>\n",
       "      <th>0</th>\n",
       "      <td>101</td>\n",
       "      <td>SK바이오사이언스, 코로나19 백신 임상 3상 시험계획 제출</td>\n",
       "      <td>SK Bioscience Submits Phase III Clinical Trial...</td>\n",
       "    </tr>\n",
       "    <tr>\n",
       "      <th>1</th>\n",
       "      <td>102</td>\n",
       "      <td>고양시 노래연습장 코로나19 누적확진 41명</td>\n",
       "      <td>41 cumulative COVID-19 confirmed patients at G...</td>\n",
       "    </tr>\n",
       "    <tr>\n",
       "      <th>2</th>\n",
       "      <td>103</td>\n",
       "      <td>코로나19 신규 감염, 28일 오후 9시까지 542명</td>\n",
       "      <td>New COVID-19 infections, 542 people by 9 p.m. ...</td>\n",
       "    </tr>\n",
       "    <tr>\n",
       "      <th>3</th>\n",
       "      <td>103</td>\n",
       "      <td>프로야구 수도권 구단서 코로나19 확진자 발생</td>\n",
       "      <td>Covid-19 confirmed cases in professional baseb...</td>\n",
       "    </tr>\n",
       "    <tr>\n",
       "      <th>4</th>\n",
       "      <td>104</td>\n",
       "      <td>\"코로나 확진자 '0명'인 날은 절대 오지 않는다\" 美전문가</td>\n",
       "      <td>\"The day when there are zero confirmed cases o...</td>\n",
       "    </tr>\n",
       "    <tr>\n",
       "      <th>5</th>\n",
       "      <td>104</td>\n",
       "      <td>올림픽 다가오는데 도쿄 코로나 확산 빨라져...일주일새 25％↑</td>\n",
       "      <td>As the Olympics are approaching, the spread of...</td>\n",
       "    </tr>\n",
       "  </tbody>\n",
       "</table>\n",
       "</div>"
      ],
      "text/plain": [
       "   category                                title  \\\n",
       "0       101    SK바이오사이언스, 코로나19 백신 임상 3상 시험계획 제출   \n",
       "1       102             고양시 노래연습장 코로나19 누적확진 41명   \n",
       "2       103        코로나19 신규 감염, 28일 오후 9시까지 542명   \n",
       "3       103            프로야구 수도권 구단서 코로나19 확진자 발생   \n",
       "4       104    \"코로나 확진자 '0명'인 날은 절대 오지 않는다\" 美전문가   \n",
       "5       104  올림픽 다가오는데 도쿄 코로나 확산 빨라져...일주일새 25％↑   \n",
       "\n",
       "                                            title_en  \n",
       "0  SK Bioscience Submits Phase III Clinical Trial...  \n",
       "1  41 cumulative COVID-19 confirmed patients at G...  \n",
       "2  New COVID-19 infections, 542 people by 9 p.m. ...  \n",
       "3  Covid-19 confirmed cases in professional baseb...  \n",
       "4  \"The day when there are zero confirmed cases o...  \n",
       "5  As the Olympics are approaching, the spread of...  "
      ]
     },
     "execution_count": 56,
     "metadata": {},
     "output_type": "execute_result"
    }
   ],
   "source": [
    "covid"
   ]
  },
  {
   "cell_type": "code",
   "execution_count": 55,
   "metadata": {},
   "outputs": [],
   "source": [
    "# utf-8-sig :excel 에서 사용하는 인코딩 방식과 호환이 되는 utf-8 인코딩 방식\n",
    "# asc(영문, 숫자, 특)/euc-kr(영문, 숫자, 특, 한글)/utf-8(모든나라)\n",
    "# 지금은 무조건 utf-8!!\n",
    "covid.to_excel(\"covid_en.xlsx\", index=True, encoding=\"utf-8-sig\")"
   ]
  },
  {
   "cell_type": "markdown",
   "metadata": {},
   "source": [
    "## 번외) 함수 scope  \n",
    "- 변수를 선언할때 함수 밖에서 선언하는것과 함수 안에서 선언하는 변수의 메모리 저장공간이 다릅니다.\n",
    "- 전역(global) 변수: 함수 밖의 영역\n",
    "- 지역(local) 영역: 함수 안의 영역\n",
    "- global: 지역영역에서 전역영역에 있는 변수를 가져올 떄 사용하는 명령어"
   ]
  },
  {
   "cell_type": "code",
   "execution_count": 60,
   "metadata": {},
   "outputs": [
    {
     "name": "stdout",
     "output_type": "stream",
     "text": [
      "20\n"
     ]
    }
   ],
   "source": [
    "data = 10\n",
    "\n",
    "def change():\n",
    "    global data # 전역영역에 있는 data를 지역영역으로 가져옴\n",
    "    data = 20\n",
    "    \n",
    "change()\n",
    "print(data)"
   ]
  },
  {
   "cell_type": "markdown",
   "metadata": {},
   "source": [
    "## 네이버 검색어 트렌드 api"
   ]
  },
  {
   "cell_type": "markdown",
   "metadata": {},
   "source": [
    "### 1. Naver API Document 확인\n",
    "- url 확인"
   ]
  },
  {
   "cell_type": "code",
   "execution_count": 32,
   "metadata": {},
   "outputs": [],
   "source": [
    "# 1. URL\n",
    "url = \"https://openapi.naver.com/v1/datalab/search\""
   ]
  },
  {
   "cell_type": "markdown",
   "metadata": {},
   "source": [
    "### 2. request(url, params,headers ) > response(json): JSON(str)\n",
    "- json.dumps()\n",
    "    - 인터넷 트래픽에서는 영문, 숫자, 특수문자만 사용가능\n",
    "    - 한글과 같은 문자를 인코딩(영문,숫자, 특수문자) 변환하는 역할"
   ]
  },
  {
   "cell_type": "code",
   "execution_count": 43,
   "metadata": {},
   "outputs": [],
   "source": [
    "# 2. request > response\n",
    "params = {\n",
    "    \"startDate\": \"2018-01-01\",\n",
    "    \"endDate\": \"2022-07-01\",\n",
    "    \"timeUnit\": \"month\",\n",
    "    \"keywordGroups\": [\n",
    "        {\"groupName\": \"트위터\", \"keywords\": [\"트위터\", \"트윗\"]},\n",
    "        {\"groupName\": \"페이스북\", \"keywords\": [\"페이스북\", \"페북\"]},\n",
    "        {\"groupName\": \"인스타그램\", \"keywords\": [\"인스타그램\", \"인스타\"]},\n",
    "    ]\n",
    "}"
   ]
  },
  {
   "cell_type": "code",
   "execution_count": 44,
   "metadata": {},
   "outputs": [],
   "source": [
    "headers = {\n",
    "    \"Content-Type\": \"application/json\",\n",
    "    \"X-Naver-Client-Id\": CLIENT_ID,\n",
    "    \"X-Naver-Client-Secret\": CLIENT_SECRET,    \n",
    "}"
   ]
  },
  {
   "cell_type": "code",
   "execution_count": 45,
   "metadata": {},
   "outputs": [
    {
     "data": {
      "text/plain": [
       "<Response [200]>"
      ]
     },
     "execution_count": 45,
     "metadata": {},
     "output_type": "execute_result"
    }
   ],
   "source": [
    "response = requests.post(url, data=json.dumps(params), headers=headers)\n",
    "response"
   ]
  },
  {
   "cell_type": "code",
   "execution_count": 46,
   "metadata": {},
   "outputs": [
    {
     "data": {
      "text/plain": [
       "'{\"startDate\":\"2018-01-01\",\"endDate\":\"2022-07-31\",\"timeUnit\":\"month\",\"results\":[{\"title\":\"트위터\",\"keywords\":[\"트위터\",\"트윗\"],\"data\":[{\"period\":\"2018-01-01\",\"ratio\":14.59502},{\"period\":\"2018-02-01\",\"ratio\":13.0238},{\"period\":\"2018-03-01\",\"ratio\":12.97953},{\"period\":\"2018-04-01\",\"ratio\":12.82991},{\"period\":\"'"
      ]
     },
     "execution_count": 46,
     "metadata": {},
     "output_type": "execute_result"
    }
   ],
   "source": [
    "response.text[:300]"
   ]
  },
  {
   "cell_type": "markdown",
   "metadata": {},
   "source": [
    "### 3. JSON(str) > List, dict > DataFrame"
   ]
  },
  {
   "cell_type": "code",
   "execution_count": 47,
   "metadata": {},
   "outputs": [
    {
     "data": {
      "text/plain": [
       "[{'title': '트위터',\n",
       "  'keywords': ['트위터', '트윗'],\n",
       "  'data': [{'period': '2018-01-01', 'ratio': 14.59502},\n",
       "   {'period': '2018-02-01', 'ratio': 13.0238},\n",
       "   {'period': '2018-03-01', 'ratio': 12.97953},\n",
       "   {'period': '2018-04-01', 'ratio': 12.82991},\n",
       "   {'period': '2018-05-01', 'ratio': 13.05391},\n",
       "   {'period': '2018-06-01', 'ratio': 13.34512},\n",
       "   {'period': '2018-07-01', 'ratio': 13.02773},\n",
       "   {'period': '2018-08-01', 'ratio': 13.45399},\n",
       "   {'period': '2018-09-01', 'ratio': 12.83755},\n",
       "   {'period': '2018-10-01', 'ratio': 13.05677},\n",
       "   {'period': '2018-11-01', 'ratio': 12.77338},\n",
       "   {'period': '2018-12-01', 'ratio': 12.86931},\n",
       "   {'period': '2019-01-01', 'ratio': 13.31172},\n",
       "   {'period': '2019-02-01', 'ratio': 11.74776},\n",
       "   {'period': '2019-03-01', 'ratio': 11.82313},\n",
       "   {'period': '2019-04-01', 'ratio': 12.32991},\n",
       "   {'period': '2019-05-01', 'ratio': 12.43771},\n",
       "   {'period': '2019-06-01', 'ratio': 13.29913},\n",
       "   {'period': '2019-07-01', 'ratio': 14.00593},\n",
       "   {'period': '2019-08-01', 'ratio': 14.208},\n",
       "   {'period': '2019-09-01', 'ratio': 14.00856},\n",
       "   {'period': '2019-10-01', 'ratio': 14.88466},\n",
       "   {'period': '2019-11-01', 'ratio': 14.352},\n",
       "   {'period': '2019-12-01', 'ratio': 14.36689},\n",
       "   {'period': '2020-01-01', 'ratio': 16.05722},\n",
       "   {'period': '2020-02-01', 'ratio': 15.71465},\n",
       "   {'period': '2020-03-01', 'ratio': 18.5669},\n",
       "   {'period': '2020-04-01', 'ratio': 18.29928},\n",
       "   {'period': '2020-05-01', 'ratio': 21.0523},\n",
       "   {'period': '2020-06-01', 'ratio': 19.27569},\n",
       "   {'period': '2020-07-01', 'ratio': 20.59297},\n",
       "   {'period': '2020-08-01', 'ratio': 19.3598},\n",
       "   {'period': '2020-09-01', 'ratio': 19.96801},\n",
       "   {'period': '2020-10-01', 'ratio': 20.88909},\n",
       "   {'period': '2020-11-01', 'ratio': 19.58926},\n",
       "   {'period': '2020-12-01', 'ratio': 21.54861},\n",
       "   {'period': '2021-01-01', 'ratio': 21.93972},\n",
       "   {'period': '2021-02-01', 'ratio': 20.09926},\n",
       "   {'period': '2021-03-01', 'ratio': 21.47994},\n",
       "   {'period': '2021-04-01', 'ratio': 22.94525},\n",
       "   {'period': '2021-05-01', 'ratio': 23.00813},\n",
       "   {'period': '2021-06-01', 'ratio': 22.19201},\n",
       "   {'period': '2021-07-01', 'ratio': 22.44472},\n",
       "   {'period': '2021-08-01', 'ratio': 23.87169},\n",
       "   {'period': '2021-09-01', 'ratio': 21.40248},\n",
       "   {'period': '2021-10-01', 'ratio': 22.49636},\n",
       "   {'period': '2021-11-01', 'ratio': 21.3438},\n",
       "   {'period': '2021-12-01', 'ratio': 21.55931},\n",
       "   {'period': '2022-01-01', 'ratio': 21.94339},\n",
       "   {'period': '2022-02-01', 'ratio': 22.43099},\n",
       "   {'period': '2022-03-01', 'ratio': 23.78266},\n",
       "   {'period': '2022-04-01', 'ratio': 23.83847},\n",
       "   {'period': '2022-05-01', 'ratio': 22.99363},\n",
       "   {'period': '2022-06-01', 'ratio': 23.2411},\n",
       "   {'period': '2022-07-01', 'ratio': 24.06197}]},\n",
       " {'title': '페이스북',\n",
       "  'keywords': ['페이스북', '페북'],\n",
       "  'data': [{'period': '2018-01-01', 'ratio': 97.80481},\n",
       "   {'period': '2018-02-01', 'ratio': 89.05814},\n",
       "   {'period': '2018-03-01', 'ratio': 98.84292},\n",
       "   {'period': '2018-04-01', 'ratio': 100},\n",
       "   {'period': '2018-05-01', 'ratio': 92.23588},\n",
       "   {'period': '2018-06-01', 'ratio': 91.70143},\n",
       "   {'period': '2018-07-01', 'ratio': 87.916},\n",
       "   {'period': '2018-08-01', 'ratio': 83.56488},\n",
       "   {'period': '2018-09-01', 'ratio': 82.66018},\n",
       "   {'period': '2018-10-01', 'ratio': 81.30381},\n",
       "   {'period': '2018-11-01', 'ratio': 76.80167},\n",
       "   {'period': '2018-12-01', 'ratio': 75.43269},\n",
       "   {'period': '2019-01-01', 'ratio': 70.21709},\n",
       "   {'period': '2019-02-01', 'ratio': 62.57096},\n",
       "   {'period': '2019-03-01', 'ratio': 70.02431},\n",
       "   {'period': '2019-04-01', 'ratio': 71.67271},\n",
       "   {'period': '2019-05-01', 'ratio': 67.79872},\n",
       "   {'period': '2019-06-01', 'ratio': 69.23259},\n",
       "   {'period': '2019-07-01', 'ratio': 64.22088},\n",
       "   {'period': '2019-08-01', 'ratio': 61.74662},\n",
       "   {'period': '2019-09-01', 'ratio': 62.30318},\n",
       "   {'period': '2019-10-01', 'ratio': 62.46025},\n",
       "   {'period': '2019-11-01', 'ratio': 59.88514},\n",
       "   {'period': '2019-12-01', 'ratio': 57.80639},\n",
       "   {'period': '2020-01-01', 'ratio': 55.94828},\n",
       "   {'period': '2020-02-01', 'ratio': 56.90092},\n",
       "   {'period': '2020-03-01', 'ratio': 63.03497},\n",
       "   {'period': '2020-04-01', 'ratio': 57.31923},\n",
       "   {'period': '2020-05-01', 'ratio': 56.65968},\n",
       "   {'period': '2020-06-01', 'ratio': 54.42362},\n",
       "   {'period': '2020-07-01', 'ratio': 56.80884},\n",
       "   {'period': '2020-08-01', 'ratio': 54.60338},\n",
       "   {'period': '2020-09-01', 'ratio': 51.64203},\n",
       "   {'period': '2020-10-01', 'ratio': 48.64782},\n",
       "   {'period': '2020-11-01', 'ratio': 46.34281},\n",
       "   {'period': '2020-12-01', 'ratio': 47.16999},\n",
       "   {'period': '2021-01-01', 'ratio': 43.23795},\n",
       "   {'period': '2021-02-01', 'ratio': 37.94335},\n",
       "   {'period': '2021-03-01', 'ratio': 42.96809},\n",
       "   {'period': '2021-04-01', 'ratio': 42.4486},\n",
       "   {'period': '2021-05-01', 'ratio': 39.64216},\n",
       "   {'period': '2021-06-01', 'ratio': 38.09701},\n",
       "   {'period': '2021-07-01', 'ratio': 36.44556},\n",
       "   {'period': '2021-08-01', 'ratio': 34.16464},\n",
       "   {'period': '2021-09-01', 'ratio': 31.2108},\n",
       "   {'period': '2021-10-01', 'ratio': 32.85607},\n",
       "   {'period': '2021-11-01', 'ratio': 28.60438},\n",
       "   {'period': '2021-12-01', 'ratio': 27.23295},\n",
       "   {'period': '2022-01-01', 'ratio': 25.93933},\n",
       "   {'period': '2022-02-01', 'ratio': 23.6213},\n",
       "   {'period': '2022-03-01', 'ratio': 24.75851},\n",
       "   {'period': '2022-04-01', 'ratio': 22.22382},\n",
       "   {'period': '2022-05-01', 'ratio': 21.65302},\n",
       "   {'period': '2022-06-01', 'ratio': 20.04381},\n",
       "   {'period': '2022-07-01', 'ratio': 19.53712}]},\n",
       " {'title': '인스타그램',\n",
       "  'keywords': ['인스타그램', '인스타'],\n",
       "  'data': [{'period': '2018-01-01', 'ratio': 23.41982},\n",
       "   {'period': '2018-02-01', 'ratio': 22.53544},\n",
       "   {'period': '2018-03-01', 'ratio': 25.3988},\n",
       "   {'period': '2018-04-01', 'ratio': 26.55983},\n",
       "   {'period': '2018-05-01', 'ratio': 28.60035},\n",
       "   {'period': '2018-06-01', 'ratio': 28.40753},\n",
       "   {'period': '2018-07-01', 'ratio': 27.84405},\n",
       "   {'period': '2018-08-01', 'ratio': 29.84383},\n",
       "   {'period': '2018-09-01', 'ratio': 25.05096},\n",
       "   {'period': '2018-10-01', 'ratio': 27.2048},\n",
       "   {'period': '2018-11-01', 'ratio': 21.97864},\n",
       "   {'period': '2018-12-01', 'ratio': 20.8739},\n",
       "   {'period': '2019-01-01', 'ratio': 22.51379},\n",
       "   {'period': '2019-02-01', 'ratio': 19.33788},\n",
       "   {'period': '2019-03-01', 'ratio': 21.67678},\n",
       "   {'period': '2019-04-01', 'ratio': 21.16257},\n",
       "   {'period': '2019-05-01', 'ratio': 20.9485},\n",
       "   {'period': '2019-06-01', 'ratio': 21.76954},\n",
       "   {'period': '2019-07-01', 'ratio': 22.586},\n",
       "   {'period': '2019-08-01', 'ratio': 21.43535},\n",
       "   {'period': '2019-09-01', 'ratio': 19.83802},\n",
       "   {'period': '2019-10-01', 'ratio': 22.24957},\n",
       "   {'period': '2019-11-01', 'ratio': 21.55812},\n",
       "   {'period': '2019-12-01', 'ratio': 21.52333},\n",
       "   {'period': '2020-01-01', 'ratio': 22.0381},\n",
       "   {'period': '2020-02-01', 'ratio': 21.53446},\n",
       "   {'period': '2020-03-01', 'ratio': 25.01454},\n",
       "   {'period': '2020-04-01', 'ratio': 24.12708},\n",
       "   {'period': '2020-05-01', 'ratio': 25.68412},\n",
       "   {'period': '2020-06-01', 'ratio': 25.47291},\n",
       "   {'period': '2020-07-01', 'ratio': 27.08637},\n",
       "   {'period': '2020-08-01', 'ratio': 26.73002},\n",
       "   {'period': '2020-09-01', 'ratio': 26.0109},\n",
       "   {'period': '2020-10-01', 'ratio': 26.21388},\n",
       "   {'period': '2020-11-01', 'ratio': 25.81836},\n",
       "   {'period': '2020-12-01', 'ratio': 25.74078},\n",
       "   {'period': '2021-01-01', 'ratio': 25.5243},\n",
       "   {'period': '2021-02-01', 'ratio': 22.79679},\n",
       "   {'period': '2021-03-01', 'ratio': 28.04835},\n",
       "   {'period': '2021-04-01', 'ratio': 27.90414},\n",
       "   {'period': '2021-05-01', 'ratio': 26.56014},\n",
       "   {'period': '2021-06-01', 'ratio': 26.31208},\n",
       "   {'period': '2021-07-01', 'ratio': 25.15776},\n",
       "   {'period': '2021-08-01', 'ratio': 25.07517},\n",
       "   {'period': '2021-09-01', 'ratio': 24.95299},\n",
       "   {'period': '2021-10-01', 'ratio': 28.76584},\n",
       "   {'period': '2021-11-01', 'ratio': 23.30904},\n",
       "   {'period': '2021-12-01', 'ratio': 22.87539},\n",
       "   {'period': '2022-01-01', 'ratio': 22.0805},\n",
       "   {'period': '2022-02-01', 'ratio': 20.23895},\n",
       "   {'period': '2022-03-01', 'ratio': 22.4226},\n",
       "   {'period': '2022-04-01', 'ratio': 22.07676},\n",
       "   {'period': '2022-05-01', 'ratio': 22.23291},\n",
       "   {'period': '2022-06-01', 'ratio': 21.63141},\n",
       "   {'period': '2022-07-01', 'ratio': 21.40551}]}]"
      ]
     },
     "execution_count": 47,
     "metadata": {},
     "output_type": "execute_result"
    }
   ],
   "source": [
    "# 3. parsing\n",
    "data = response.json()[\"results\"]\n",
    "data"
   ]
  },
  {
   "cell_type": "code",
   "execution_count": 48,
   "metadata": {},
   "outputs": [
    {
     "data": {
      "text/html": [
       "<div>\n",
       "<style scoped>\n",
       "    .dataframe tbody tr th:only-of-type {\n",
       "        vertical-align: middle;\n",
       "    }\n",
       "\n",
       "    .dataframe tbody tr th {\n",
       "        vertical-align: top;\n",
       "    }\n",
       "\n",
       "    .dataframe thead th {\n",
       "        text-align: right;\n",
       "    }\n",
       "</style>\n",
       "<table border=\"1\" class=\"dataframe\">\n",
       "  <thead>\n",
       "    <tr style=\"text-align: right;\">\n",
       "      <th></th>\n",
       "      <th>date</th>\n",
       "      <th>twitter</th>\n",
       "      <th>facebook</th>\n",
       "      <th>instagram</th>\n",
       "    </tr>\n",
       "  </thead>\n",
       "  <tbody>\n",
       "    <tr>\n",
       "      <th>50</th>\n",
       "      <td>2022-03-01</td>\n",
       "      <td>23.78266</td>\n",
       "      <td>24.75851</td>\n",
       "      <td>22.42260</td>\n",
       "    </tr>\n",
       "    <tr>\n",
       "      <th>51</th>\n",
       "      <td>2022-04-01</td>\n",
       "      <td>23.83847</td>\n",
       "      <td>22.22382</td>\n",
       "      <td>22.07676</td>\n",
       "    </tr>\n",
       "    <tr>\n",
       "      <th>52</th>\n",
       "      <td>2022-05-01</td>\n",
       "      <td>22.99363</td>\n",
       "      <td>21.65302</td>\n",
       "      <td>22.23291</td>\n",
       "    </tr>\n",
       "    <tr>\n",
       "      <th>53</th>\n",
       "      <td>2022-06-01</td>\n",
       "      <td>23.24110</td>\n",
       "      <td>20.04381</td>\n",
       "      <td>21.63141</td>\n",
       "    </tr>\n",
       "    <tr>\n",
       "      <th>54</th>\n",
       "      <td>2022-07-01</td>\n",
       "      <td>24.06197</td>\n",
       "      <td>19.53712</td>\n",
       "      <td>21.40551</td>\n",
       "    </tr>\n",
       "  </tbody>\n",
       "</table>\n",
       "</div>"
      ],
      "text/plain": [
       "          date   twitter  facebook  instagram\n",
       "50  2022-03-01  23.78266  24.75851   22.42260\n",
       "51  2022-04-01  23.83847  22.22382   22.07676\n",
       "52  2022-05-01  22.99363  21.65302   22.23291\n",
       "53  2022-06-01  23.24110  20.04381   21.63141\n",
       "54  2022-07-01  24.06197  19.53712   21.40551"
      ]
     },
     "execution_count": 48,
     "metadata": {},
     "output_type": "execute_result"
    }
   ],
   "source": [
    "# list comprehension\n",
    "df = pd.DataFrame({\n",
    "    \"date\": [period['period'] for period in data[0]['data']],\n",
    "    \"twitter\": [ratio['ratio'] for ratio in data[0]['data']],\n",
    "    \"facebook\": [ratio['ratio'] for ratio in data[1]['data']],\n",
    "    \"instagram\": [ratio['ratio'] for ratio in data[2]['data']]\n",
    "    \n",
    "})\n",
    "df.tail()"
   ]
  },
  {
   "cell_type": "code",
   "execution_count": 14,
   "metadata": {},
   "outputs": [],
   "source": [
    "# 4. preprocessing"
   ]
  },
  {
   "cell_type": "markdown",
   "metadata": {},
   "source": [
    "### 4. visualization"
   ]
  },
  {
   "cell_type": "code",
   "execution_count": 49,
   "metadata": {},
   "outputs": [],
   "source": [
    "%matplotlib inline\n",
    "%config InlineBackend.figure_formats = {'png', 'retina'}"
   ]
  },
  {
   "cell_type": "code",
   "execution_count": 50,
   "metadata": {},
   "outputs": [],
   "source": [
    "import matplotlib.pyplot as plt"
   ]
  },
  {
   "cell_type": "code",
   "execution_count": 51,
   "metadata": {},
   "outputs": [
    {
     "data": {
      "image/png": "[encoded data removed]",
      "text/plain": [
       "<Figure size 1440x360 with 1 Axes>"
      ]
     },
     "metadata": {
      "image/png": {
       "height": 302,
       "width": 1156
      },
      "needs_background": "light"
     },
     "output_type": "display_data"
    }
   ],
   "source": [
    "df.plot(figsize=(20, 5))\n",
    "plt.legend(loc=0)\n",
    "plt.show()"
   ]
  },
  {
   "cell_type": "markdown",
   "metadata": {},
   "source": [
    "## 과제"
   ]
  },
  {
   "cell_type": "markdown",
   "metadata": {},
   "source": [
    "### 카카오 API 사용해서 주소 > 위도, 경도, 우편번호 (또는 반대)\n",
    "- REST API 키 사용\n",
    "- 문서: 로컬 개발 가이드"
   ]
  }
 ],
 "metadata": {
  "hide_input": false,
  "kernelspec": {
   "display_name": "Python 3",
   "language": "python",
   "name": "python3"
  },
  "language_info": {
   "codemirror_mode": {
    "name": "ipython",
    "version": 3
   },
   "file_extension": ".py",
   "mimetype": "text/x-python",
   "name": "python",
   "nbconvert_exporter": "python",
   "pygments_lexer": "ipython3",
   "version": "3.7.6"
  },
  "toc": {
   "base_numbering": 1,
   "nav_menu": {},
   "number_sections": false,
   "sideBar": true,
   "skip_h1_title": false,
   "title_cell": "Table of Contents",
   "title_sidebar": "Contents",
   "toc_cell": false,
   "toc_position": {
    "height": "calc(100% - 180px)",
    "left": "10px",
    "top": "150px",
    "width": "341.319px"
   },
   "toc_section_display": true,
   "toc_window_display": true
  },
  "varInspector": {
   "cols": {
    "lenName": 16,
    "lenType": 16,
    "lenVar": 40
   },
   "kernels_config": {
    "python": {
     "delete_cmd_postfix": "",
     "delete_cmd_prefix": "del ",
     "library": "var_list.py",
     "varRefreshCmd": "print(var_dic_list())"
    },
    "r": {
     "delete_cmd_postfix": ") ",
     "delete_cmd_prefix": "rm(",
     "library": "var_list.r",
     "varRefreshCmd": "cat(var_dic_list()) "
    }
   },
   "types_to_exclude": [
    "module",
    "function",
    "builtin_function_or_method",
    "instance",
    "_Feature"
   ],
   "window_display": false
  }
 },
 "nbformat": 4,
 "nbformat_minor": 4
}
