{
 "cells": [
  {
   "cell_type": "markdown",
   "metadata": {},
   "source": [
    "### xpath\n",
    "- html element 선택하는 방법\n",
    "- scrapy 에서는 기본적으로 사용하는 selector\n",
    "- scrapy: 파이썬 코드로 웹페이지의 데이터를 수집하는 프레임워크"
   ]
  },
  {
   "cell_type": "code",
   "execution_count": 2,
   "metadata": {},
   "outputs": [
    {
     "name": "stdout",
     "output_type": "stream",
     "text": [
      "Collecting scrapy\n",
      "  Downloading Scrapy-2.6.2-py2.py3-none-any.whl (264 kB)\n",
      "Collecting w3lib>=1.17.0\n",
      "  Downloading w3lib-1.22.0-py2.py3-none-any.whl (20 kB)\n",
      "Requirement already satisfied: setuptools in c:\\users\\keogu\\anaconda3\\lib\\site-packages (from scrapy) (58.0.4)\n",
      "Requirement already satisfied: cryptography>=2.0 in c:\\users\\keogu\\anaconda3\\lib\\site-packages (from scrapy) (36.0.0)\n",
      "Collecting service-identity>=16.0.0\n",
      "  Downloading service_identity-21.1.0-py2.py3-none-any.whl (12 kB)\n",
      "Collecting cssselect>=0.9.1\n",
      "  Downloading cssselect-1.1.0-py2.py3-none-any.whl (16 kB)\n",
      "Collecting tldextract\n",
      "  Downloading tldextract-3.3.1-py3-none-any.whl (93 kB)\n",
      "Collecting PyDispatcher>=2.0.5\n",
      "  Downloading PyDispatcher-2.0.5.zip (47 kB)\n",
      "Collecting protego>=0.1.15\n",
      "  Downloading Protego-0.2.1-py2.py3-none-any.whl (8.2 kB)\n",
      "Collecting itemloaders>=1.0.1\n",
      "  Downloading itemloaders-1.0.4-py3-none-any.whl (11 kB)\n",
      "Collecting zope.interface>=4.1.3\n",
      "  Downloading zope.interface-5.4.0-cp37-cp37m-win_amd64.whl (210 kB)\n",
      "Requirement already satisfied: lxml>=3.5.0 in c:\\users\\keogu\\anaconda3\\lib\\site-packages (from scrapy) (4.5.0)\n",
      "Collecting itemadapter>=0.1.0\n",
      "  Downloading itemadapter-0.7.0-py3-none-any.whl (10 kB)\n",
      "Collecting parsel>=1.5.0\n",
      "  Downloading parsel-1.6.0-py2.py3-none-any.whl (13 kB)\n",
      "Collecting queuelib>=1.4.2\n",
      "  Downloading queuelib-1.6.2-py2.py3-none-any.whl (13 kB)\n",
      "Requirement already satisfied: pyOpenSSL>=16.2.0 in c:\\users\\keogu\\anaconda3\\lib\\site-packages (from scrapy) (22.0.0)\n",
      "Collecting Twisted>=17.9.0\n",
      "  Downloading Twisted-22.4.0-py3-none-any.whl (3.1 MB)\n",
      "Requirement already satisfied: cffi>=1.12 in c:\\users\\keogu\\anaconda3\\lib\\site-packages (from cryptography>=2.0->scrapy) (1.15.0)\n",
      "Requirement already satisfied: pycparser in c:\\users\\keogu\\anaconda3\\lib\\site-packages (from cffi>=1.12->cryptography>=2.0->scrapy) (2.21)\n",
      "Requirement already satisfied: jmespath>=0.9.5 in c:\\users\\keogu\\anaconda3\\lib\\site-packages (from itemloaders>=1.0.1->scrapy) (1.0.1)\n",
      "Requirement already satisfied: six>=1.6.0 in c:\\users\\keogu\\anaconda3\\lib\\site-packages (from parsel>=1.5.0->scrapy) (1.16.0)\n",
      "Requirement already satisfied: pyasn1-modules in c:\\users\\keogu\\anaconda3\\lib\\site-packages (from service-identity>=16.0.0->scrapy) (0.2.8)\n",
      "Requirement already satisfied: pyasn1 in c:\\users\\keogu\\anaconda3\\lib\\site-packages (from service-identity>=16.0.0->scrapy) (0.4.8)\n",
      "Requirement already satisfied: attrs>=19.1.0 in c:\\users\\keogu\\anaconda3\\lib\\site-packages (from service-identity>=16.0.0->scrapy) (21.4.0)\n",
      "Collecting twisted-iocpsupport<2,>=1.0.2\n",
      "  Downloading twisted_iocpsupport-1.0.2-cp37-cp37m-win_amd64.whl (44 kB)\n",
      "Requirement already satisfied: typing-extensions>=3.6.5 in c:\\users\\keogu\\anaconda3\\lib\\site-packages (from Twisted>=17.9.0->scrapy) (3.10.0.2)\n",
      "Collecting incremental>=21.3.0\n",
      "  Downloading incremental-21.3.0-py2.py3-none-any.whl (15 kB)\n",
      "Collecting Automat>=0.8.0\n",
      "  Downloading Automat-20.2.0-py2.py3-none-any.whl (31 kB)\n",
      "Collecting hyperlink>=17.1.1\n",
      "  Downloading hyperlink-21.0.0-py2.py3-none-any.whl (74 kB)\n",
      "Collecting constantly>=15.1\n",
      "  Downloading constantly-15.1.0-py2.py3-none-any.whl (7.9 kB)\n",
      "Requirement already satisfied: idna>=2.5 in c:\\users\\keogu\\anaconda3\\lib\\site-packages (from hyperlink>=17.1.1->Twisted>=17.9.0->scrapy) (3.3)\n",
      "Requirement already satisfied: filelock>=3.0.8 in c:\\users\\keogu\\anaconda3\\lib\\site-packages (from tldextract->scrapy) (3.4.2)\n",
      "Collecting requests-file>=1.4\n",
      "  Downloading requests_file-1.5.1-py2.py3-none-any.whl (3.7 kB)\n",
      "Requirement already satisfied: requests>=2.1.0 in c:\\users\\keogu\\anaconda3\\lib\\site-packages (from tldextract->scrapy) (2.27.1)\n",
      "Requirement already satisfied: charset-normalizer~=2.0.0 in c:\\users\\keogu\\anaconda3\\lib\\site-packages (from requests>=2.1.0->tldextract->scrapy) (2.0.4)\n",
      "Requirement already satisfied: urllib3<1.27,>=1.21.1 in c:\\users\\keogu\\anaconda3\\lib\\site-packages (from requests>=2.1.0->tldextract->scrapy) (1.26.8)\n",
      "Requirement already satisfied: certifi>=2017.4.17 in c:\\users\\keogu\\anaconda3\\lib\\site-packages (from requests>=2.1.0->tldextract->scrapy) (2021.10.8)\n",
      "Building wheels for collected packages: PyDispatcher\n",
      "  Building wheel for PyDispatcher (setup.py): started\n",
      "  Building wheel for PyDispatcher (setup.py): finished with status 'done'\n",
      "  Created wheel for PyDispatcher: filename=PyDispatcher-2.0.5-py3-none-any.whl size=12560 sha256=c925ba0fd700a9e0a64bd3e27957760988e2b24ac9a6f0ada13f7ac550bc097a\n",
      "  Stored in directory: c:\\users\\keogu\\appdata\\local\\pip\\cache\\wheels\\2d\\18\\21\\3c6a732eaa69a339198e08bb63b7da2c45933a3428b29ec454\n",
      "Successfully built PyDispatcher\n",
      "Installing collected packages: w3lib, cssselect, zope.interface, twisted-iocpsupport, requests-file, parsel, itemadapter, incremental, hyperlink, constantly, Automat, Twisted, tldextract, service-identity, queuelib, PyDispatcher, protego, itemloaders, scrapy\n",
      "Successfully installed Automat-20.2.0 PyDispatcher-2.0.5 Twisted-22.4.0 constantly-15.1.0 cssselect-1.1.0 hyperlink-21.0.0 incremental-21.3.0 itemadapter-0.7.0 itemloaders-1.0.4 parsel-1.6.0 protego-0.2.1 queuelib-1.6.2 requests-file-1.5.1 scrapy-2.6.2 service-identity-21.1.0 tldextract-3.3.1 twisted-iocpsupport-1.0.2 w3lib-1.22.0 zope.interface-5.4.0\n"
     ]
    }
   ],
   "source": [
    "# install scrapy\n",
    "#!pip install scrapy"
   ]
  },
  {
   "cell_type": "code",
   "execution_count": 3,
   "metadata": {},
   "outputs": [],
   "source": [
    "import scrapy, requests\n",
    "from scrapy.http import TextResponse "
   ]
  },
  {
   "cell_type": "code",
   "execution_count": 5,
   "metadata": {},
   "outputs": [],
   "source": [
    "# 네이버 연관검색어 수집"
   ]
  },
  {
   "cell_type": "code",
   "execution_count": 6,
   "metadata": {},
   "outputs": [
    {
     "data": {
      "text/plain": [
       "'https://search.naver.com/search.naver?query=kt'"
      ]
     },
     "execution_count": 6,
     "metadata": {},
     "output_type": "execute_result"
    }
   ],
   "source": [
    "query = \"kt\"\n",
    "url = f\"https://search.naver.com/search.naver?query={query}\"\n",
    "url"
   ]
  },
  {
   "cell_type": "code",
   "execution_count": 8,
   "metadata": {},
   "outputs": [],
   "source": [
    "response = requests.get(url)\n",
    "dom = TextResponse(response.url, body=response.text, encoding=\"utf-8\")"
   ]
  },
  {
   "cell_type": "code",
   "execution_count": null,
   "metadata": {},
   "outputs": [],
   "source": [
    "# xpath syntax\n",
    "# //*[@id=\"nx_footer_related_keywords\"]/div/div[2]/ul/li[1]/a/div\n",
    "# // : 최상위 엘리먼트\n",
    "# * : 모든 하위 엘리먼트 : css selector의 한칸띄우기와 같다.(.wrap p)\n",
    "# [@id=\"nx_footer_related_keywords\"]: 속성값 선택\n",
    "# / : 한단계 하위 엘리먼트 : css selector의 >와 같다.\n",
    "# [n] : nth-child(n)"
   ]
  },
  {
   "cell_type": "code",
   "execution_count": 12,
   "metadata": {},
   "outputs": [
    {
     "data": {
      "text/plain": [
       "[<Selector xpath='//*[@id=\"nx_footer_related_keywords\"]/div/div[2]/ul/li[1]/a/div' data='<div class=\"tit\">삼성전자</div> </a> </li...'>]"
      ]
     },
     "execution_count": 12,
     "metadata": {},
     "output_type": "execute_result"
    }
   ],
   "source": [
    "dom.xpath('//*[@id=\"nx_footer_related_keywords\"]/div/div[2]/ul/li[1]/a/div')"
   ]
  },
  {
   "cell_type": "code",
   "execution_count": 17,
   "metadata": {},
   "outputs": [
    {
     "data": {
      "text/plain": [
       "[<Selector xpath='//*[@id=\"nx_footer_related_keywords\"]/div/div[2]/ul/li/a/div' data='<div class=\"tit\">삼성전자</div> </a> </li...'>,\n",
       " <Selector xpath='//*[@id=\"nx_footer_related_keywords\"]/div/div[2]/ul/li/a/div' data='<div class=\"tit\">kt 고객센터</div> </a> <...'>]"
      ]
     },
     "execution_count": 17,
     "metadata": {},
     "output_type": "execute_result"
    }
   ],
   "source": [
    "dom.xpath('//*[@id=\"nx_footer_related_keywords\"]/div/div[2]/ul/li/a/div')[:2]"
   ]
  },
  {
   "cell_type": "code",
   "execution_count": 19,
   "metadata": {},
   "outputs": [
    {
     "data": {
      "text/plain": [
       "['삼성전자',\n",
       " 'kt 고객센터',\n",
       " 'kt 인터넷',\n",
       " 'ky',\n",
       " '환율',\n",
       " 'kt 대리점',\n",
       " 'kr',\n",
       " '날씨',\n",
       " 'SKT',\n",
       " 'kt 고객센터 전화번호']"
      ]
     },
     "execution_count": 19,
     "metadata": {},
     "output_type": "execute_result"
    }
   ],
   "source": [
    "dom.xpath('//*[@id=\"nx_footer_related_keywords\"]/div/div[2]/ul/li/a/div/text()').extract()"
   ]
  },
  {
   "cell_type": "code",
   "execution_count": 18,
   "metadata": {},
   "outputs": [],
   "source": [
    "# selenium 에서의 xpath는 for 을 사용해서 데이터를 수집"
   ]
  },
  {
   "cell_type": "code",
   "execution_count": null,
   "metadata": {},
   "outputs": [],
   "source": []
  },
  {
   "cell_type": "code",
   "execution_count": null,
   "metadata": {},
   "outputs": [],
   "source": []
  },
  {
   "cell_type": "code",
   "execution_count": null,
   "metadata": {},
   "outputs": [],
   "source": []
  }
 ],
 "metadata": {
  "hide_input": false,
  "kernelspec": {
   "display_name": "Python 3",
   "language": "python",
   "name": "python3"
  },
  "language_info": {
   "codemirror_mode": {
    "name": "ipython",
    "version": 3
   },
   "file_extension": ".py",
   "mimetype": "text/x-python",
   "name": "python",
   "nbconvert_exporter": "python",
   "pygments_lexer": "ipython3",
   "version": "3.7.6"
  },
  "toc": {
   "base_numbering": 1,
   "nav_menu": {},
   "number_sections": false,
   "sideBar": true,
   "skip_h1_title": false,
   "title_cell": "Table of Contents",
   "title_sidebar": "Contents",
   "toc_cell": false,
   "toc_position": {},
   "toc_section_display": true,
   "toc_window_display": false
  },
  "varInspector": {
   "cols": {
    "lenName": 16,
    "lenType": 16,
    "lenVar": 40
   },
   "kernels_config": {
    "python": {
     "delete_cmd_postfix": "",
     "delete_cmd_prefix": "del ",
     "library": "var_list.py",
     "varRefreshCmd": "print(var_dic_list())"
    },
    "r": {
     "delete_cmd_postfix": ") ",
     "delete_cmd_prefix": "rm(",
     "library": "var_list.r",
     "varRefreshCmd": "cat(var_dic_list()) "
    }
   },
   "types_to_exclude": [
    "module",
    "function",
    "builtin_function_or_method",
    "instance",
    "_Feature"
   ],
   "window_display": false
  }
 },
 "nbformat": 4,
 "nbformat_minor": 5
}
